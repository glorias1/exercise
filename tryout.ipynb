{
  "nbformat": 4,
  "nbformat_minor": 0,
  "metadata": {
    "colab": {
      "name": "exercise.ipynb",
      "provenance": [],
      "collapsed_sections": []
    },
    "kernelspec": {
      "name": "python3",
      "display_name": "Python 3"
    },
    "language_info": {
      "name": "python"
    }
  },
  "cells": [
    {
      "cell_type": "code",
      "metadata": {
        "id": "qfmexl1kovcd"
      },
      "source": [
        "import nltk\n",
        "from nltk.corpus import stopwords"
      ],
      "execution_count": null,
      "outputs": []
    },
    {
      "cell_type": "code",
      "metadata": {
        "id": "OfDr5gp6o7XD"
      },
      "source": [
        "import spacy\n",
        "from spacy.lang.en import English\n",
        "model = spacy.load(\"en_core_web_sm\")"
      ],
      "execution_count": null,
      "outputs": []
    },
    {
      "cell_type": "code",
      "metadata": {
        "colab": {
          "base_uri": "https://localhost:8080/"
        },
        "id": "dRo1jTd8pj9P",
        "outputId": "44f79046-1da1-45c6-8af7-15cd47dbedeb"
      },
      "source": [
        "# To tokenize a given text\n",
        "from spacy.tokenizer import Tokenizer\n",
        "tokenizer_spacy = model.tokenizer\n",
        "\n",
        "text = \"Last week, the University of Cambridge shared its own research that shows if everyone wears a mask outside home,dreaded ‘second wave’ of the pandemic can be avoided.\"\n",
        "tokens = tokenizer_spacy(text)\n",
        "for token in tokens:\n",
        "  print(token)"
      ],
      "execution_count": null,
      "outputs": [
        {
          "output_type": "stream",
          "name": "stdout",
          "text": [
            "Last\n",
            "week\n",
            ",\n",
            "the\n",
            "University\n",
            "of\n",
            "Cambridge\n",
            "shared\n",
            "its\n",
            "own\n",
            "research\n",
            "that\n",
            "shows\n",
            "if\n",
            "everyone\n",
            "wears\n",
            "a\n",
            "mask\n",
            "outside\n",
            "home\n",
            ",\n",
            "dreaded\n",
            "‘\n",
            "second\n",
            "wave\n",
            "’\n",
            "of\n",
            "the\n",
            "pandemic\n",
            "can\n",
            "be\n",
            "avoided\n",
            ".\n"
          ]
        }
      ]
    },
    {
      "cell_type": "code",
      "metadata": {
        "colab": {
          "base_uri": "https://localhost:8080/"
        },
        "id": "cpOY4dU1qN9k",
        "outputId": "6d3ac32e-9878-4cd6-9378-7e5fd99adc0b"
      },
      "source": [
        "# To get the sentences of a text document\n",
        "text=\"\"\"The outbreak of coronavirus disease 2019 (COVID-19) has created a global health crisis that has had a deep impact on the way we perceive our world and our everyday lives. Not only the rate of contagion and patterns of transmission threatens our sense of agency, but the safety measures put in place to contain the spread of the virus also require social distancing by refraining from doing what is inherently human, which is to find solace in the company of others. Within this context of physical threat, social and physical distancing, as well as public alarm, what has been (and can be) the role of the different mass media channels in our lives on individual, social and societal levels? Mass media have long been recognized as powerful forces shaping how we experience the world and ourselves. This recognition is accompanied by a growing volume of research, that closely follows the footsteps of technological transformations (e.g. radio, movies, television, the internet, mobiles) and the zeitgeist (e.g. cold war, 9/11, climate change) in an attempt to map mass media major impacts on how we perceive ourselves, both as individuals and citizens. Are media (broadcast and digital) still able to convey a sense of unity reaching large audiences, or are messages lost in the noisy crowd of mass self-communication? \"\"\"\n",
        "\n",
        "doc = model(text)\n",
        "for sent in doc.sents:\n",
        "  print(sent)"
      ],
      "execution_count": null,
      "outputs": [
        {
          "output_type": "stream",
          "name": "stdout",
          "text": [
            "The outbreak of coronavirus disease 2019 (COVID-19) has created a global health crisis that has had a deep impact on the way we perceive our world and our everyday lives.\n",
            "Not only the rate of contagion and patterns of transmission threatens our sense of agency, but the safety measures put in place to contain the spread of the virus also require social distancing by refraining from doing what is inherently human, which is to find solace in the company of others.\n",
            "Within this context of physical threat, social and physical distancing, as well as public alarm, what has been (and can be)\n",
            "the role of the different mass media channels in our lives on individual, social and societal levels?\n",
            "Mass media have long been recognized as powerful forces shaping how we experience the world and ourselves.\n",
            "This recognition is accompanied by a growing volume of research, that closely follows the footsteps of technological transformations (e.g. radio, movies, television, the internet, mobiles) and the zeitgeist (e.g. cold war, 9/11, climate change) in an attempt to map mass media major impacts on how we perceive ourselves, both as individuals and citizens.\n",
            "Are media (broadcast and digital) still able to convey a sense of unity reaching large audiences, or are messages lost in the noisy crowd of mass self-communication?\n"
          ]
        }
      ]
    },
    {
      "cell_type": "code",
      "metadata": {
        "colab": {
          "base_uri": "https://localhost:8080/"
        },
        "id": "JtB-YEIzrVEz",
        "outputId": "66e635c8-ce17-4a0f-88e0-b47583f2f25c"
      },
      "source": [
        "# To tokenize a text using the `transformers` package \n",
        "\n",
        "from transformers import AutoTokenizer\n",
        "\n",
        "tokenizer_transformers = AutoTokenizer.from_pretrained('bert-base-uncased') # base model\n",
        "text=\"I love spring season. I go hiking with my friends\"\n",
        "tokens = tokenizer_transformers.tokenize(text)\n",
        "ids = tokenizer_transformers.convert_tokens_to_ids(tokens)\n",
        "\n",
        "print(ids)\n",
        "print(tokens)"
      ],
      "execution_count": null,
      "outputs": [
        {
          "output_type": "stream",
          "name": "stdout",
          "text": [
            "[1045, 2293, 3500, 2161, 1012, 1045, 2175, 13039, 2007, 2026, 2814]\n",
            "['i', 'love', 'spring', 'season', '.', 'i', 'go', 'hiking', 'with', 'my', 'friends']\n"
          ]
        }
      ]
    },
    {
      "cell_type": "code",
      "metadata": {
        "colab": {
          "base_uri": "https://localhost:8080/"
        },
        "id": "fCy3ggVdtzSf",
        "outputId": "c6030078-f61c-4420-bfe1-e3625ca719c5"
      },
      "source": [
        "# To tokenize text with stopwords as delimiters \n",
        "import string\n",
        "text = \"Walter was feeling anxious. He was diagnosed today. He probably is the best person I know.\"\n",
        "\n",
        "stop_words = set(stopwords.words('english'))\n",
        "\n",
        "tokens = tokenizer_spacy(text)\n",
        "\n",
        "tokens = [str(token) for token in tokens if (str(token) not in stop_words) and (str(token) not in string.punctuation)]\n",
        "print(tokens)"
      ],
      "execution_count": null,
      "outputs": [
        {
          "output_type": "stream",
          "name": "stdout",
          "text": [
            "['Walter', 'feeling', 'anxious', 'He', 'diagnosed', 'today', 'He', 'probably', 'best', 'person', 'I', 'know']\n"
          ]
        }
      ]
    },
    {
      "cell_type": "code",
      "metadata": {
        "colab": {
          "base_uri": "https://localhost:8080/"
        },
        "id": "ExxtlpXowtsq",
        "outputId": "9a84f728-930b-4662-8960-d685c19efd73"
      },
      "source": [
        "# To remove stop words in a text\n",
        "\n",
        "text = \"\"\"the outbreak of coronavirus disease 2019 (COVID-19) has created a global health crisis that has had a deep impact on the way we perceive our world and our everyday lives. Not only the rate of contagion and patterns of transmission threatens our sense of agency, but the safety measures put in place to contain the spread of the virus also require social distancing by refraining from doing what is inherently human, which is to find solace in the company of others. Within this context of physical threat, social and physical distancing, as well as public alarm, what has been (and can be) the role of the different mass media channels in our lives on individual, social and societal levels? Mass media have long been recognized as powerful forces shaping how we experience the world and ourselves. This recognition is accompanied by a growing volume of research, that closely follows the footsteps of technological transformations (e.g. radio, movies, television, the internet, mobiles) and the zeitgeist (e.g. cold war, 9/11, climate change) in an attempt to map mass media major impacts on how we perceive ourselves, both as individuals and citizens. Are media (broadcast and digital) still able to convey a sense of unity reaching large audiences, or are messages lost in the noisy crowd of mass self-communication? \"\"\"\n",
        "\n",
        "tokens = tokenizer_spacy(text)\n",
        "\n",
        "new_text = ' '.join([str(token) for token in tokens if str(token) not in stop_words])\n",
        "print(new_text)"
      ],
      "execution_count": null,
      "outputs": [
        {
          "output_type": "stream",
          "name": "stdout",
          "text": [
            "outbreak coronavirus disease 2019 ( COVID-19 ) created global health crisis deep impact way perceive world everyday lives . Not rate contagion patterns transmission threatens sense agency , safety measures put place contain spread virus also require social distancing refraining inherently human , find solace company others . Within context physical threat , social physical distancing , well public alarm , ( ) role different mass media channels lives individual , social societal levels ? Mass media long recognized powerful forces shaping experience world . This recognition accompanied growing volume research , closely follows footsteps technological transformations ( e.g. radio , movies , television , internet , mobiles ) zeitgeist ( e.g. cold war , 9/11 , climate change ) attempt map mass media major impacts perceive , individuals citizens . Are media ( broadcast digital ) still able convey sense unity reaching large audiences , messages lost noisy crowd mass self - communication ?\n"
          ]
        }
      ]
    },
    {
      "cell_type": "code",
      "metadata": {
        "colab": {
          "base_uri": "https://localhost:8080/"
        },
        "id": "rz1rHc1-yfNB",
        "outputId": "b3c48d15-50f9-405e-b52c-36ce0b3be015"
      },
      "source": [
        "# To add custom stop words in spaCy: \"NIL\" and \"JUNK\"\n",
        "\n",
        "stopwords = ['NIL', 'JUNK', ' ']\n",
        "\n",
        "text = \" Jonas was a JUNK great guy NIL Adam was evil NIL Martha JUNK was more of a fool \"\n",
        "tokens = tokenizer_spacy(text)\n",
        "filtered_text = ' '.join([str(token) for token in tokens if str(token) not in stopwords and str(token) not in stop_words])\n",
        "\n",
        "print(filtered_text)"
      ],
      "execution_count": null,
      "outputs": [
        {
          "output_type": "stream",
          "name": "stdout",
          "text": [
            "Jonas great guy Adam evil Martha fool\n"
          ]
        }
      ]
    },
    {
      "cell_type": "code",
      "metadata": {
        "colab": {
          "base_uri": "https://localhost:8080/"
        },
        "id": "5zmckP4s0daz",
        "outputId": "2c71437d-6e71-42bd-c51c-80eb8065b27c"
      },
      "source": [
        "# To remove punctuations\n",
        "\n",
        "text = \"The match has concluded !!! India has won the match . Will we fin the finals too ? !\"\n",
        "\n",
        "tokens = tokenizer_spacy(text)\n",
        "filtered = ' '.join([str(token) for token in tokens if str(token) not in string.punctuation])\n",
        "print(filtered)\n"
      ],
      "execution_count": null,
      "outputs": [
        {
          "output_type": "stream",
          "name": "stdout",
          "text": [
            "The match has concluded India has won the match Will we fin the finals too\n"
          ]
        }
      ]
    },
    {
      "cell_type": "code",
      "metadata": {
        "colab": {
          "base_uri": "https://localhost:8080/"
        },
        "id": "ch8uRsLA3LtI",
        "outputId": "b586d490-2e82-4120-eee4-c7fcd63c0c1e"
      },
      "source": [
        "# To perform stemming\n",
        "# Stemming: convert each token to it’s root form in the given text\n",
        "\n",
        "from nltk.stem import PorterStemmer\n",
        "porter = PorterStemmer()\n",
        "\n",
        "text = \"Dancing is an art. Students should be taught dance as a subject in schools . I danced in many of my school function. Some people are always hesitating to dance.\"\n",
        "\n",
        "tokens = tokenizer_spacy(text)\n",
        "filtered = ' '.join(porter.stem(str(token)) for token in tokens)\n",
        "print(filtered)"
      ],
      "execution_count": null,
      "outputs": [
        {
          "output_type": "stream",
          "name": "stdout",
          "text": [
            "danc is an art . student should be taught danc as a subject in school . I danc in mani of my school function . some peopl are alway hesit to danc .\n"
          ]
        }
      ]
    },
    {
      "cell_type": "code",
      "metadata": {
        "colab": {
          "base_uri": "https://localhost:8080/"
        },
        "id": "M2Iwb79h4m0t",
        "outputId": "be7e7701-dd37-42bb-84f0-4d60b0950db4"
      },
      "source": [
        "# To lemmatize a given text\n",
        "\n",
        "text= \"Dancing is an art. Students should be taught dance as a subject in schools . I danced in many of my school function. Some people are always hesitating to dance.\"\n",
        "tokens = tokenizer_spacy(text)\n",
        "\n",
        "# token.lemma: The lemma (hash)\n",
        "# token.lemma_: The lemma\n",
        "\n",
        "print(' '.join([str(token.lemma_) for token in tokens]))"
      ],
      "execution_count": null,
      "outputs": [
        {
          "output_type": "stream",
          "name": "stdout",
          "text": [
            "Dancing be a art . Students should be teach dance a a subject in school . I dance in many of my school function . Some people be always hesitate to dance .\n"
          ]
        }
      ]
    },
    {
      "cell_type": "code",
      "metadata": {
        "colab": {
          "base_uri": "https://localhost:8080/"
        },
        "id": "U-SyyOIY9i_x",
        "outputId": "ec2af572-9d9d-4995-993e-0e57d83c3120"
      },
      "source": [
        "# To extract usernames from emails\n",
        "\n",
        "text= \"The new registrations are potter709@gmail.com , elixir101@gmail.com. If you find any disruptions, kindly contact granger111@gamil.com or severus77@gamil.com \"\n",
        "\n",
        "tokens = tokenizer_spacy(text)\n",
        "\n",
        "usernames = []\n",
        "\n",
        "for token in tokens:\n",
        "  if '@' in str(token):\n",
        "    usernames.append(str(token).split('@')[0])\n",
        "\n",
        "print(usernames)"
      ],
      "execution_count": null,
      "outputs": [
        {
          "output_type": "stream",
          "name": "stdout",
          "text": [
            "['potter709', 'elixir101', 'granger111', 'severus77']\n"
          ]
        }
      ]
    },
    {
      "cell_type": "code",
      "metadata": {
        "colab": {
          "base_uri": "https://localhost:8080/"
        },
        "id": "c_W8BKIrKQmL",
        "outputId": "2e6c11c1-142e-46f9-c52f-3a6d0a67b8b2"
      },
      "source": [
        "# To find the most common words in the text excluding stopwords\n",
        "text=\"\"\"Junkfood - Food that do no good to our body. And there's no need of them in our body but still we willingly eat them because they are great in taste and easy to cook or ready to eat. Junk foods have no or very less nutritional value and irrespective of the way they are marketed, they are not healthy to consume.The only reason of their gaining popularity and increased trend of consumption is \n",
        "that they are ready to eat or easy to cook foods. People, of all age groups are moving towards Junkfood as it is hassle free and often ready to grab and eat. Cold drinks, chips, noodles, pizza, burgers, French fries etc. are few examples from the great variety of junk food available in the market.\n",
        " Junkfood is the most dangerous food ever but it is pleasure in eating and it gives a great taste in mouth examples of Junkfood are kurkure and chips.. cold rings are also source of junk food... they shud nt be ate in high amounts as it results fatal to our body... it cn be eated in a limited extend ... in research its found tht ths junk foods r very dangerous fr our health\n",
        "Junkfood is very harmful that is slowly eating away the health of the present generation. The term itself denotes how dangerous it is for our bodies. Most importantly, it tastes so good that people consume it on a daily basis. However, not much awareness is spread about the harmful effects of Junkfood .\n",
        "The problem is more serious than you think. Various studies show that Junkfood impacts our health negatively. They contain higher levels of calories, fats, and sugar. On the contrary, they have very low amounts of healthy nutrients and lack dietary fibers. Parents must discourage their children from consuming junk food because of the ill effects it has on one’s health.\n",
        "Junkfood is the easiest way to gain unhealthy weight. The amount of fats and sugar in the food makes you gain weight rapidly. However, this is not a healthy weight. It is more of fats and cholesterol which will have a harmful impact on your health. Junk food is also one of the main reasons for the increase in obesity nowadays.\n",
        "This food only looks and tastes good, other than that, it has no positive points. The amount of calorie your body requires to stay fit is not fulfilled by this food. For instance, foods like French fries, burgers, candy, and cookies, all have high amounts of sugar and fats. Therefore, this can result in long-term illnesses like diabetes and high blood pressure. This may also result in kidney failure.\"\"\"\n",
        "\n",
        "tokens = tokenizer_spacy(text)\n",
        "tokens = [str(token) for token in tokens if str(token) not in stop_words and str(token) not in string.punctuation]\n",
        "\n",
        "counts = {}\n",
        "for token in tokens:\n",
        "  if token not in counts:\n",
        "    counts[token] = 1\n",
        "  else: counts[token] += 1\n",
        "print(counts)"
      ],
      "execution_count": null,
      "outputs": [
        {
          "output_type": "stream",
          "name": "stdout",
          "text": [
            "{'Junkfood': 8, 'Food': 1, 'good': 3, 'body': 4, 'And': 1, \"'s\": 1, 'need': 1, 'still': 1, 'willingly': 1, 'eat': 4, 'great': 3, 'taste': 2, 'easy': 2, 'cook': 2, 'ready': 3, 'Junk': 2, 'foods': 4, 'less': 1, 'nutritional': 1, 'value': 1, 'irrespective': 1, 'way': 2, 'marketed': 1, 'healthy': 3, 'consume': 2, 'The': 5, 'reason': 1, 'gaining': 1, 'popularity': 1, 'increased': 1, 'trend': 1, 'consumption': 1, '\\n': 5, 'People': 1, 'age': 1, 'groups': 1, 'moving': 1, 'towards': 1, 'hassle': 1, 'free': 1, 'often': 1, 'grab': 1, 'Cold': 1, 'drinks': 1, 'chips': 2, 'noodles': 1, 'pizza': 1, 'burgers': 2, 'French': 2, 'fries': 2, 'etc': 1, 'examples': 2, 'variety': 1, 'junk': 4, 'food': 8, 'available': 1, 'market': 1, '\\n ': 1, 'dangerous': 3, 'ever': 1, 'pleasure': 1, 'eating': 2, 'gives': 1, 'mouth': 1, 'kurkure': 1, '..': 1, 'cold': 1, 'rings': 1, 'also': 3, 'source': 1, '...': 3, 'shud': 1, 'nt': 1, 'ate': 1, 'high': 3, 'amounts': 3, 'results': 1, 'fatal': 1, 'cn': 1, 'eated': 1, 'limited': 1, 'extend': 1, 'research': 1, 'found': 1, 'tht': 1, 'ths': 1, 'r': 1, 'fr': 1, 'health': 5, 'harmful': 3, 'slowly': 1, 'away': 1, 'present': 1, 'generation': 1, 'term': 2, 'denotes': 1, 'bodies': 1, 'Most': 1, 'importantly': 1, 'tastes': 2, 'people': 1, 'daily': 1, 'basis': 1, 'However': 2, 'much': 1, 'awareness': 1, 'spread': 1, 'effects': 2, 'problem': 1, 'serious': 1, 'think': 1, 'Various': 1, 'studies': 1, 'show': 1, 'impacts': 1, 'negatively': 1, 'They': 1, 'contain': 1, 'higher': 1, 'levels': 1, 'calories': 1, 'fats': 4, 'sugar': 3, 'On': 1, 'contrary': 1, 'low': 1, 'nutrients': 1, 'lack': 1, 'dietary': 1, 'fibers': 1, 'Parents': 1, 'must': 1, 'discourage': 1, 'children': 1, 'consuming': 1, 'ill': 1, 'one': 2, '’s': 1, 'easiest': 1, 'gain': 2, 'unhealthy': 1, 'weight': 3, 'amount': 2, 'makes': 1, 'rapidly': 1, 'It': 1, 'cholesterol': 1, 'impact': 1, 'main': 1, 'reasons': 1, 'increase': 1, 'obesity': 1, 'nowadays': 1, 'This': 2, 'looks': 1, 'positive': 1, 'points': 1, 'calorie': 1, 'requires': 1, 'stay': 1, 'fit': 1, 'fulfilled': 1, 'For': 1, 'instance': 1, 'like': 2, 'candy': 1, 'cookies': 1, 'Therefore': 1, 'result': 2, 'long': 1, 'illnesses': 1, 'diabetes': 1, 'blood': 1, 'pressure': 1, 'may': 1, 'kidney': 1, 'failure': 1}\n"
          ]
        }
      ]
    },
    {
      "cell_type": "code",
      "metadata": {
        "colab": {
          "base_uri": "https://localhost:8080/"
        },
        "id": "DXALOH41LpSQ",
        "outputId": "b6dec5a3-a762-47da-f3a2-e1375f40f84c"
      },
      "source": [
        "# To do spell correction in a given text\n",
        "\n",
        "text=\"He is a gret person. He beleives in bod\"\n",
        "\n",
        "from  textblob import TextBlob\n",
        "blb = TextBlob(text)\n",
        "print(blb.correct())"
      ],
      "execution_count": null,
      "outputs": [
        {
          "output_type": "stream",
          "name": "stdout",
          "text": [
            "He is a great person. He believes in god\n"
          ]
        }
      ]
    },
    {
      "cell_type": "code",
      "metadata": {
        "colab": {
          "base_uri": "https://localhost:8080/"
        },
        "id": "6Ktku3j4MpGf",
        "outputId": "b0519c89-b64a-4c05-85ee-6944b0466566"
      },
      "source": [
        "# To tokenize tweets \n",
        "text = \" Having lots of fun #goa #vaction #summervacation. Fancy dinner @Beachbay restro :) \"\n",
        "\n",
        "import re\n",
        "cleaned = re.sub()\n",
        "tokens = tokenizer_spacy(text)\n",
        "print(tokenized)"
      ],
      "execution_count": null,
      "outputs": [
        {
          "output_type": "stream",
          "name": "stdout",
          "text": [
            "['Having', 'lots', 'of', 'fun', 'goa', 'vaction', 'summervacation', 'Fancy', 'dinner', '@Beachbay', 'restro', ':)']\n"
          ]
        }
      ]
    },
    {
      "cell_type": "code",
      "metadata": {
        "id": "dLcG33H_Nbus"
      },
      "source": [
        ""
      ],
      "execution_count": null,
      "outputs": []
    }
  ]
}