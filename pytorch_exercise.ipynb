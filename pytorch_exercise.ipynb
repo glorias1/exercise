{
  "nbformat": 4,
  "nbformat_minor": 0,
  "metadata": {
    "colab": {
      "name": "pytorch_exercise.ipynb",
      "provenance": [],
      "collapsed_sections": []
    },
    "kernelspec": {
      "name": "python3",
      "display_name": "Python 3"
    },
    "language_info": {
      "name": "python"
    },
    "accelerator": "GPU",
    "widgets": {
      "application/vnd.jupyter.widget-state+json": {
        "5868e307f88444c8af296267bee92175": {
          "model_module": "@jupyter-widgets/controls",
          "model_name": "HBoxModel",
          "model_module_version": "1.5.0",
          "state": {
            "_view_name": "HBoxView",
            "_dom_classes": [],
            "_model_name": "HBoxModel",
            "_view_module": "@jupyter-widgets/controls",
            "_model_module_version": "1.5.0",
            "_view_count": null,
            "_view_module_version": "1.5.0",
            "box_style": "",
            "layout": "IPY_MODEL_eff457134594439f9a8bbc424be64e2f",
            "_model_module": "@jupyter-widgets/controls",
            "children": [
              "IPY_MODEL_eeaf4052f3e14572b4f393824f316d4b",
              "IPY_MODEL_680771af85114289a437e078ab49d55e",
              "IPY_MODEL_8b2f122d61c74b4e87a46066c4a26e33"
            ]
          }
        },
        "eff457134594439f9a8bbc424be64e2f": {
          "model_module": "@jupyter-widgets/base",
          "model_name": "LayoutModel",
          "model_module_version": "1.2.0",
          "state": {
            "_view_name": "LayoutView",
            "grid_template_rows": null,
            "right": null,
            "justify_content": null,
            "_view_module": "@jupyter-widgets/base",
            "overflow": null,
            "_model_module_version": "1.2.0",
            "_view_count": null,
            "flex_flow": null,
            "width": null,
            "min_width": null,
            "border": null,
            "align_items": null,
            "bottom": null,
            "_model_module": "@jupyter-widgets/base",
            "top": null,
            "grid_column": null,
            "overflow_y": null,
            "overflow_x": null,
            "grid_auto_flow": null,
            "grid_area": null,
            "grid_template_columns": null,
            "flex": null,
            "_model_name": "LayoutModel",
            "justify_items": null,
            "grid_row": null,
            "max_height": null,
            "align_content": null,
            "visibility": null,
            "align_self": null,
            "height": null,
            "min_height": null,
            "padding": null,
            "grid_auto_rows": null,
            "grid_gap": null,
            "max_width": null,
            "order": null,
            "_view_module_version": "1.2.0",
            "grid_template_areas": null,
            "object_position": null,
            "object_fit": null,
            "grid_auto_columns": null,
            "margin": null,
            "display": null,
            "left": null
          }
        },
        "eeaf4052f3e14572b4f393824f316d4b": {
          "model_module": "@jupyter-widgets/controls",
          "model_name": "HTMLModel",
          "model_module_version": "1.5.0",
          "state": {
            "_view_name": "HTMLView",
            "style": "IPY_MODEL_5bc2b5cc02914da682c131c18032c9fb",
            "_dom_classes": [],
            "description": "",
            "_model_name": "HTMLModel",
            "placeholder": "​",
            "_view_module": "@jupyter-widgets/controls",
            "_model_module_version": "1.5.0",
            "value": "100%",
            "_view_count": null,
            "_view_module_version": "1.5.0",
            "description_tooltip": null,
            "_model_module": "@jupyter-widgets/controls",
            "layout": "IPY_MODEL_5a18b01a5fb04c2482fbad7b989922b6"
          }
        },
        "680771af85114289a437e078ab49d55e": {
          "model_module": "@jupyter-widgets/controls",
          "model_name": "FloatProgressModel",
          "model_module_version": "1.5.0",
          "state": {
            "_view_name": "ProgressView",
            "style": "IPY_MODEL_67166b80349447aba9b84d0f1b327424",
            "_dom_classes": [],
            "description": "",
            "_model_name": "FloatProgressModel",
            "bar_style": "success",
            "max": 46830571,
            "_view_module": "@jupyter-widgets/controls",
            "_model_module_version": "1.5.0",
            "value": 46830571,
            "_view_count": null,
            "_view_module_version": "1.5.0",
            "orientation": "horizontal",
            "min": 0,
            "description_tooltip": null,
            "_model_module": "@jupyter-widgets/controls",
            "layout": "IPY_MODEL_2dffa98271ba42689ab2ab1e605b3773"
          }
        },
        "8b2f122d61c74b4e87a46066c4a26e33": {
          "model_module": "@jupyter-widgets/controls",
          "model_name": "HTMLModel",
          "model_module_version": "1.5.0",
          "state": {
            "_view_name": "HTMLView",
            "style": "IPY_MODEL_47192d036aa947bc84fa185ddfa5b761",
            "_dom_classes": [],
            "description": "",
            "_model_name": "HTMLModel",
            "placeholder": "​",
            "_view_module": "@jupyter-widgets/controls",
            "_model_module_version": "1.5.0",
            "value": " 44.7M/44.7M [00:00&lt;00:00, 68.8MB/s]",
            "_view_count": null,
            "_view_module_version": "1.5.0",
            "description_tooltip": null,
            "_model_module": "@jupyter-widgets/controls",
            "layout": "IPY_MODEL_53ede3b5065344798c1a3cffcbb7cf42"
          }
        },
        "5bc2b5cc02914da682c131c18032c9fb": {
          "model_module": "@jupyter-widgets/controls",
          "model_name": "DescriptionStyleModel",
          "model_module_version": "1.5.0",
          "state": {
            "_view_name": "StyleView",
            "_model_name": "DescriptionStyleModel",
            "description_width": "",
            "_view_module": "@jupyter-widgets/base",
            "_model_module_version": "1.5.0",
            "_view_count": null,
            "_view_module_version": "1.2.0",
            "_model_module": "@jupyter-widgets/controls"
          }
        },
        "5a18b01a5fb04c2482fbad7b989922b6": {
          "model_module": "@jupyter-widgets/base",
          "model_name": "LayoutModel",
          "model_module_version": "1.2.0",
          "state": {
            "_view_name": "LayoutView",
            "grid_template_rows": null,
            "right": null,
            "justify_content": null,
            "_view_module": "@jupyter-widgets/base",
            "overflow": null,
            "_model_module_version": "1.2.0",
            "_view_count": null,
            "flex_flow": null,
            "width": null,
            "min_width": null,
            "border": null,
            "align_items": null,
            "bottom": null,
            "_model_module": "@jupyter-widgets/base",
            "top": null,
            "grid_column": null,
            "overflow_y": null,
            "overflow_x": null,
            "grid_auto_flow": null,
            "grid_area": null,
            "grid_template_columns": null,
            "flex": null,
            "_model_name": "LayoutModel",
            "justify_items": null,
            "grid_row": null,
            "max_height": null,
            "align_content": null,
            "visibility": null,
            "align_self": null,
            "height": null,
            "min_height": null,
            "padding": null,
            "grid_auto_rows": null,
            "grid_gap": null,
            "max_width": null,
            "order": null,
            "_view_module_version": "1.2.0",
            "grid_template_areas": null,
            "object_position": null,
            "object_fit": null,
            "grid_auto_columns": null,
            "margin": null,
            "display": null,
            "left": null
          }
        },
        "67166b80349447aba9b84d0f1b327424": {
          "model_module": "@jupyter-widgets/controls",
          "model_name": "ProgressStyleModel",
          "model_module_version": "1.5.0",
          "state": {
            "_view_name": "StyleView",
            "_model_name": "ProgressStyleModel",
            "description_width": "",
            "_view_module": "@jupyter-widgets/base",
            "_model_module_version": "1.5.0",
            "_view_count": null,
            "_view_module_version": "1.2.0",
            "bar_color": null,
            "_model_module": "@jupyter-widgets/controls"
          }
        },
        "2dffa98271ba42689ab2ab1e605b3773": {
          "model_module": "@jupyter-widgets/base",
          "model_name": "LayoutModel",
          "model_module_version": "1.2.0",
          "state": {
            "_view_name": "LayoutView",
            "grid_template_rows": null,
            "right": null,
            "justify_content": null,
            "_view_module": "@jupyter-widgets/base",
            "overflow": null,
            "_model_module_version": "1.2.0",
            "_view_count": null,
            "flex_flow": null,
            "width": null,
            "min_width": null,
            "border": null,
            "align_items": null,
            "bottom": null,
            "_model_module": "@jupyter-widgets/base",
            "top": null,
            "grid_column": null,
            "overflow_y": null,
            "overflow_x": null,
            "grid_auto_flow": null,
            "grid_area": null,
            "grid_template_columns": null,
            "flex": null,
            "_model_name": "LayoutModel",
            "justify_items": null,
            "grid_row": null,
            "max_height": null,
            "align_content": null,
            "visibility": null,
            "align_self": null,
            "height": null,
            "min_height": null,
            "padding": null,
            "grid_auto_rows": null,
            "grid_gap": null,
            "max_width": null,
            "order": null,
            "_view_module_version": "1.2.0",
            "grid_template_areas": null,
            "object_position": null,
            "object_fit": null,
            "grid_auto_columns": null,
            "margin": null,
            "display": null,
            "left": null
          }
        },
        "47192d036aa947bc84fa185ddfa5b761": {
          "model_module": "@jupyter-widgets/controls",
          "model_name": "DescriptionStyleModel",
          "model_module_version": "1.5.0",
          "state": {
            "_view_name": "StyleView",
            "_model_name": "DescriptionStyleModel",
            "description_width": "",
            "_view_module": "@jupyter-widgets/base",
            "_model_module_version": "1.5.0",
            "_view_count": null,
            "_view_module_version": "1.2.0",
            "_model_module": "@jupyter-widgets/controls"
          }
        },
        "53ede3b5065344798c1a3cffcbb7cf42": {
          "model_module": "@jupyter-widgets/base",
          "model_name": "LayoutModel",
          "model_module_version": "1.2.0",
          "state": {
            "_view_name": "LayoutView",
            "grid_template_rows": null,
            "right": null,
            "justify_content": null,
            "_view_module": "@jupyter-widgets/base",
            "overflow": null,
            "_model_module_version": "1.2.0",
            "_view_count": null,
            "flex_flow": null,
            "width": null,
            "min_width": null,
            "border": null,
            "align_items": null,
            "bottom": null,
            "_model_module": "@jupyter-widgets/base",
            "top": null,
            "grid_column": null,
            "overflow_y": null,
            "overflow_x": null,
            "grid_auto_flow": null,
            "grid_area": null,
            "grid_template_columns": null,
            "flex": null,
            "_model_name": "LayoutModel",
            "justify_items": null,
            "grid_row": null,
            "max_height": null,
            "align_content": null,
            "visibility": null,
            "align_self": null,
            "height": null,
            "min_height": null,
            "padding": null,
            "grid_auto_rows": null,
            "grid_gap": null,
            "max_width": null,
            "order": null,
            "_view_module_version": "1.2.0",
            "grid_template_areas": null,
            "object_position": null,
            "object_fit": null,
            "grid_auto_columns": null,
            "margin": null,
            "display": null,
            "left": null
          }
        },
        "8e93dc560b6347cbaa3c5cb15d492780": {
          "model_module": "@jupyter-widgets/controls",
          "model_name": "HBoxModel",
          "model_module_version": "1.5.0",
          "state": {
            "_view_name": "HBoxView",
            "_dom_classes": [],
            "_model_name": "HBoxModel",
            "_view_module": "@jupyter-widgets/controls",
            "_model_module_version": "1.5.0",
            "_view_count": null,
            "_view_module_version": "1.5.0",
            "box_style": "",
            "layout": "IPY_MODEL_0a0bebae9b5f40c8af814b79ae02e90c",
            "_model_module": "@jupyter-widgets/controls",
            "children": [
              "IPY_MODEL_1b72308a4ba34d2dbf216b244ca6324e",
              "IPY_MODEL_fff32c963515499ba29c5daecf1285bf",
              "IPY_MODEL_b24084bfdb9442f483debd935e67e9d6"
            ]
          }
        },
        "0a0bebae9b5f40c8af814b79ae02e90c": {
          "model_module": "@jupyter-widgets/base",
          "model_name": "LayoutModel",
          "model_module_version": "1.2.0",
          "state": {
            "_view_name": "LayoutView",
            "grid_template_rows": null,
            "right": null,
            "justify_content": null,
            "_view_module": "@jupyter-widgets/base",
            "overflow": null,
            "_model_module_version": "1.2.0",
            "_view_count": null,
            "flex_flow": null,
            "width": null,
            "min_width": null,
            "border": null,
            "align_items": null,
            "bottom": null,
            "_model_module": "@jupyter-widgets/base",
            "top": null,
            "grid_column": null,
            "overflow_y": null,
            "overflow_x": null,
            "grid_auto_flow": null,
            "grid_area": null,
            "grid_template_columns": null,
            "flex": null,
            "_model_name": "LayoutModel",
            "justify_items": null,
            "grid_row": null,
            "max_height": null,
            "align_content": null,
            "visibility": null,
            "align_self": null,
            "height": null,
            "min_height": null,
            "padding": null,
            "grid_auto_rows": null,
            "grid_gap": null,
            "max_width": null,
            "order": null,
            "_view_module_version": "1.2.0",
            "grid_template_areas": null,
            "object_position": null,
            "object_fit": null,
            "grid_auto_columns": null,
            "margin": null,
            "display": null,
            "left": null
          }
        },
        "1b72308a4ba34d2dbf216b244ca6324e": {
          "model_module": "@jupyter-widgets/controls",
          "model_name": "HTMLModel",
          "model_module_version": "1.5.0",
          "state": {
            "_view_name": "HTMLView",
            "style": "IPY_MODEL_6610b34b052e4ad89aa003f0198b9c41",
            "_dom_classes": [],
            "description": "",
            "_model_name": "HTMLModel",
            "placeholder": "​",
            "_view_module": "@jupyter-widgets/controls",
            "_model_module_version": "1.5.0",
            "value": "",
            "_view_count": null,
            "_view_module_version": "1.5.0",
            "description_tooltip": null,
            "_model_module": "@jupyter-widgets/controls",
            "layout": "IPY_MODEL_6d2f0b3c1e6148389d273d30d9cac217"
          }
        },
        "fff32c963515499ba29c5daecf1285bf": {
          "model_module": "@jupyter-widgets/controls",
          "model_name": "FloatProgressModel",
          "model_module_version": "1.5.0",
          "state": {
            "_view_name": "ProgressView",
            "style": "IPY_MODEL_38a72551e81c4658b4467fd1171f4b9f",
            "_dom_classes": [],
            "description": "",
            "_model_name": "FloatProgressModel",
            "bar_style": "success",
            "max": 170498071,
            "_view_module": "@jupyter-widgets/controls",
            "_model_module_version": "1.5.0",
            "value": 170498071,
            "_view_count": null,
            "_view_module_version": "1.5.0",
            "orientation": "horizontal",
            "min": 0,
            "description_tooltip": null,
            "_model_module": "@jupyter-widgets/controls",
            "layout": "IPY_MODEL_ad46faad936d4807b0b62dc7c86406cb"
          }
        },
        "b24084bfdb9442f483debd935e67e9d6": {
          "model_module": "@jupyter-widgets/controls",
          "model_name": "HTMLModel",
          "model_module_version": "1.5.0",
          "state": {
            "_view_name": "HTMLView",
            "style": "IPY_MODEL_97c6d8ad82c946ea83f2679c0fc1c750",
            "_dom_classes": [],
            "description": "",
            "_model_name": "HTMLModel",
            "placeholder": "​",
            "_view_module": "@jupyter-widgets/controls",
            "_model_module_version": "1.5.0",
            "value": " 170499072/? [00:03&lt;00:00, 60666050.00it/s]",
            "_view_count": null,
            "_view_module_version": "1.5.0",
            "description_tooltip": null,
            "_model_module": "@jupyter-widgets/controls",
            "layout": "IPY_MODEL_ca456481821e4881898bbe6ef1f53fcf"
          }
        },
        "6610b34b052e4ad89aa003f0198b9c41": {
          "model_module": "@jupyter-widgets/controls",
          "model_name": "DescriptionStyleModel",
          "model_module_version": "1.5.0",
          "state": {
            "_view_name": "StyleView",
            "_model_name": "DescriptionStyleModel",
            "description_width": "",
            "_view_module": "@jupyter-widgets/base",
            "_model_module_version": "1.5.0",
            "_view_count": null,
            "_view_module_version": "1.2.0",
            "_model_module": "@jupyter-widgets/controls"
          }
        },
        "6d2f0b3c1e6148389d273d30d9cac217": {
          "model_module": "@jupyter-widgets/base",
          "model_name": "LayoutModel",
          "model_module_version": "1.2.0",
          "state": {
            "_view_name": "LayoutView",
            "grid_template_rows": null,
            "right": null,
            "justify_content": null,
            "_view_module": "@jupyter-widgets/base",
            "overflow": null,
            "_model_module_version": "1.2.0",
            "_view_count": null,
            "flex_flow": null,
            "width": null,
            "min_width": null,
            "border": null,
            "align_items": null,
            "bottom": null,
            "_model_module": "@jupyter-widgets/base",
            "top": null,
            "grid_column": null,
            "overflow_y": null,
            "overflow_x": null,
            "grid_auto_flow": null,
            "grid_area": null,
            "grid_template_columns": null,
            "flex": null,
            "_model_name": "LayoutModel",
            "justify_items": null,
            "grid_row": null,
            "max_height": null,
            "align_content": null,
            "visibility": null,
            "align_self": null,
            "height": null,
            "min_height": null,
            "padding": null,
            "grid_auto_rows": null,
            "grid_gap": null,
            "max_width": null,
            "order": null,
            "_view_module_version": "1.2.0",
            "grid_template_areas": null,
            "object_position": null,
            "object_fit": null,
            "grid_auto_columns": null,
            "margin": null,
            "display": null,
            "left": null
          }
        },
        "38a72551e81c4658b4467fd1171f4b9f": {
          "model_module": "@jupyter-widgets/controls",
          "model_name": "ProgressStyleModel",
          "model_module_version": "1.5.0",
          "state": {
            "_view_name": "StyleView",
            "_model_name": "ProgressStyleModel",
            "description_width": "",
            "_view_module": "@jupyter-widgets/base",
            "_model_module_version": "1.5.0",
            "_view_count": null,
            "_view_module_version": "1.2.0",
            "bar_color": null,
            "_model_module": "@jupyter-widgets/controls"
          }
        },
        "ad46faad936d4807b0b62dc7c86406cb": {
          "model_module": "@jupyter-widgets/base",
          "model_name": "LayoutModel",
          "model_module_version": "1.2.0",
          "state": {
            "_view_name": "LayoutView",
            "grid_template_rows": null,
            "right": null,
            "justify_content": null,
            "_view_module": "@jupyter-widgets/base",
            "overflow": null,
            "_model_module_version": "1.2.0",
            "_view_count": null,
            "flex_flow": null,
            "width": null,
            "min_width": null,
            "border": null,
            "align_items": null,
            "bottom": null,
            "_model_module": "@jupyter-widgets/base",
            "top": null,
            "grid_column": null,
            "overflow_y": null,
            "overflow_x": null,
            "grid_auto_flow": null,
            "grid_area": null,
            "grid_template_columns": null,
            "flex": null,
            "_model_name": "LayoutModel",
            "justify_items": null,
            "grid_row": null,
            "max_height": null,
            "align_content": null,
            "visibility": null,
            "align_self": null,
            "height": null,
            "min_height": null,
            "padding": null,
            "grid_auto_rows": null,
            "grid_gap": null,
            "max_width": null,
            "order": null,
            "_view_module_version": "1.2.0",
            "grid_template_areas": null,
            "object_position": null,
            "object_fit": null,
            "grid_auto_columns": null,
            "margin": null,
            "display": null,
            "left": null
          }
        },
        "97c6d8ad82c946ea83f2679c0fc1c750": {
          "model_module": "@jupyter-widgets/controls",
          "model_name": "DescriptionStyleModel",
          "model_module_version": "1.5.0",
          "state": {
            "_view_name": "StyleView",
            "_model_name": "DescriptionStyleModel",
            "description_width": "",
            "_view_module": "@jupyter-widgets/base",
            "_model_module_version": "1.5.0",
            "_view_count": null,
            "_view_module_version": "1.2.0",
            "_model_module": "@jupyter-widgets/controls"
          }
        },
        "ca456481821e4881898bbe6ef1f53fcf": {
          "model_module": "@jupyter-widgets/base",
          "model_name": "LayoutModel",
          "model_module_version": "1.2.0",
          "state": {
            "_view_name": "LayoutView",
            "grid_template_rows": null,
            "right": null,
            "justify_content": null,
            "_view_module": "@jupyter-widgets/base",
            "overflow": null,
            "_model_module_version": "1.2.0",
            "_view_count": null,
            "flex_flow": null,
            "width": null,
            "min_width": null,
            "border": null,
            "align_items": null,
            "bottom": null,
            "_model_module": "@jupyter-widgets/base",
            "top": null,
            "grid_column": null,
            "overflow_y": null,
            "overflow_x": null,
            "grid_auto_flow": null,
            "grid_area": null,
            "grid_template_columns": null,
            "flex": null,
            "_model_name": "LayoutModel",
            "justify_items": null,
            "grid_row": null,
            "max_height": null,
            "align_content": null,
            "visibility": null,
            "align_self": null,
            "height": null,
            "min_height": null,
            "padding": null,
            "grid_auto_rows": null,
            "grid_gap": null,
            "max_width": null,
            "order": null,
            "_view_module_version": "1.2.0",
            "grid_template_areas": null,
            "object_position": null,
            "object_fit": null,
            "grid_auto_columns": null,
            "margin": null,
            "display": null,
            "left": null
          }
        }
      }
    }
  },
  "cells": [
    {
      "cell_type": "markdown",
      "metadata": {
        "id": "fPSCjZ7IalEQ"
      },
      "source": [
        "# Pytorch Exercise\n",
        "\n",
        "[Deep Learning with PyTorch: A 60 Minute Blitz](https://pytorch.org/tutorials/beginner/deep_learning_60min_blitz.html)\n",
        "\n",
        "## Tensor\n",
        "In PyTorch, we use tensors to encode the inputs and outputs of a model, as well as the model’s parameters.\n",
        "\n",
        "Tensors are similar to Numpy's ndarrays, but tensors can run on GPUs or other specialized hardware to accelerate computing.\n",
        "\n",
        "\n",
        "### Initialize tensors\n",
        "\n",
        "> 1. Directly from data"
      ]
    },
    {
      "cell_type": "code",
      "metadata": {
        "id": "sPnnB14zaPzg"
      },
      "source": [
        "import torch\n",
        "import numpy as np"
      ],
      "execution_count": 1,
      "outputs": []
    },
    {
      "cell_type": "code",
      "metadata": {
        "colab": {
          "base_uri": "https://localhost:8080/"
        },
        "id": "bUp6gLKTblOW",
        "outputId": "723a3e1f-0818-4ee4-c37c-6b6088cd4b86"
      },
      "source": [
        "data = [[1, 2], [3, 4]]\n",
        "x = torch.tensor(data)\n",
        "x"
      ],
      "execution_count": 2,
      "outputs": [
        {
          "output_type": "execute_result",
          "data": {
            "text/plain": [
              "tensor([[1, 2],\n",
              "        [3, 4]])"
            ]
          },
          "metadata": {},
          "execution_count": 2
        }
      ]
    },
    {
      "cell_type": "markdown",
      "metadata": {
        "id": "EUo2dMg1bzh_"
      },
      "source": [
        "> 2. Create from Numpy ndarrays"
      ]
    },
    {
      "cell_type": "code",
      "metadata": {
        "colab": {
          "base_uri": "https://localhost:8080/"
        },
        "id": "z-hiqd80bv7v",
        "outputId": "340f8fd2-d7ff-4bab-f834-28a9100a5a68"
      },
      "source": [
        "data = np.array(data)\n",
        "x_np = torch.from_numpy(data)\n",
        "x_np"
      ],
      "execution_count": 3,
      "outputs": [
        {
          "output_type": "execute_result",
          "data": {
            "text/plain": [
              "tensor([[1, 2],\n",
              "        [3, 4]])"
            ]
          },
          "metadata": {},
          "execution_count": 3
        }
      ]
    },
    {
      "cell_type": "markdown",
      "metadata": {
        "id": "3xyR5qB4cHig"
      },
      "source": [
        "3. From another tensors\n",
        "\n",
        "The new tensor retains the properties (shape, datatype) of the argument tensor, unless explicitly overridden.\n",
        "\n",
        "[torch.ones_like](https://pytorch.org/docs/stable/generated/torch.ones_like.htmla): Returns a tensor filled with the scalar value 1, with the same size as input.\n",
        "\n",
        "[torch.rand_like](https://pytorch.org/docs/stable/generated/torch.rand_like.html): Returns a tensor with the same size as input that is filled with random numbers from a uniform distribution on the interval [0,1)."
      ]
    },
    {
      "cell_type": "code",
      "metadata": {
        "colab": {
          "base_uri": "https://localhost:8080/"
        },
        "id": "1RRZFQkTcE8t",
        "outputId": "8763e779-cc8b-45e2-f6d5-4a29ec94e55c"
      },
      "source": [
        "x_new = torch.ones_like(x)\n",
        "print(x_new)\n",
        "x_float = torch.ones_like(x, dtype=torch.float)\n",
        "print(x_float)\n",
        "x_rand = torch.rand_like(x, dtype=torch.float)\n",
        "print(x_rand)"
      ],
      "execution_count": 4,
      "outputs": [
        {
          "output_type": "stream",
          "name": "stdout",
          "text": [
            "tensor([[1, 1],\n",
            "        [1, 1]])\n",
            "tensor([[1., 1.],\n",
            "        [1., 1.]])\n",
            "tensor([[0.0706, 0.6979],\n",
            "        [0.6434, 0.3060]])\n"
          ]
        }
      ]
    },
    {
      "cell_type": "markdown",
      "metadata": {
        "id": "tHI3wvdTmhBF"
      },
      "source": [
        "**With random or constant valuess**\n",
        "\n",
        "`shape` is a tuple of tensor dimensions. In the functions below, it determines the dimensionality of the output tensor.\n",
        "\n",
        "[`torch.rand`](https://pytorch.org/docs/stable/generated/torch.rand.html): Returns a tensor filled with random numbers from a uniform distribution on the interval [0, 1).\n",
        "\n",
        "[`torch.ones`](https://pytorch.org/docs/stable/generated/torch.ones.html): Returns a tensor filled with the scalar value 1, with the shape defined by the variable argument `size`.\n",
        "\n",
        "[`torch.zeros`](https://pytorch.org/docs/stable/generated/torch.zeros.html): Returns a tensor filled with the scalar value 0, with the shape defined by the variable argument `size`."
      ]
    },
    {
      "cell_type": "code",
      "metadata": {
        "colab": {
          "base_uri": "https://localhost:8080/"
        },
        "id": "J6hg53ROmhht",
        "outputId": "bee95240-82db-4786-b636-89454d01ad57"
      },
      "source": [
        "shape = (2, 3,)\n",
        "rand_tensor = torch.rand(shape)\n",
        "ones_tensor = torch.ones(shape)\n",
        "zeros_tensor = torch.zeros(shape)\n",
        "\n",
        "print(f\"Random Tensor: \\n {rand_tensor} \\n\")\n",
        "print(f\"Ones Tensor: \\n {ones_tensor} \\n\")\n",
        "print(f\"Zeros Tensor: \\n {zeros_tensor}\")"
      ],
      "execution_count": 5,
      "outputs": [
        {
          "output_type": "stream",
          "name": "stdout",
          "text": [
            "Random Tensor: \n",
            " tensor([[0.2375, 0.2179, 0.8755],\n",
            "        [0.1408, 0.0858, 0.6067]]) \n",
            "\n",
            "Ones Tensor: \n",
            " tensor([[1., 1., 1.],\n",
            "        [1., 1., 1.]]) \n",
            "\n",
            "Zeros Tensor: \n",
            " tensor([[0., 0., 0.],\n",
            "        [0., 0., 0.]])\n"
          ]
        }
      ]
    },
    {
      "cell_type": "markdown",
      "metadata": {
        "id": "3GzYZ-OHeVbQ"
      },
      "source": [
        "**What is a device in Pytorch?**\n",
        "\n",
        "[Struct Device](https://pytorch.org/cppdocs/api/structc10_1_1_device.html): Represents a a compute device on which a tensor is located, e.g. CPU or CUDA GPU."
      ]
    },
    {
      "cell_type": "markdown",
      "metadata": {
        "id": "LfzR7ydDe51L"
      },
      "source": [
        "**To use GPU**"
      ]
    },
    {
      "cell_type": "code",
      "metadata": {
        "colab": {
          "base_uri": "https://localhost:8080/"
        },
        "id": "AEusfBSuc9B8",
        "outputId": "faee8a33-46b4-4ab5-c13b-6db22a9aacc8"
      },
      "source": [
        "if torch.cuda.is_available():\n",
        "  x_rand = x_rand.to('cuda')\n",
        "  print(x_rand.device)"
      ],
      "execution_count": 6,
      "outputs": [
        {
          "output_type": "stream",
          "name": "stdout",
          "text": [
            "cuda:0\n"
          ]
        }
      ]
    },
    {
      "cell_type": "markdown",
      "metadata": {
        "id": "ukzPwbnggGhb"
      },
      "source": [
        "**Concatenate tensors**\n",
        "\n",
        "[torch.cat](https://pytorch.org/docs/stable/generated/torch.cat.html): Concatenates the given sequence of seq tensors in the given dimension. All tensors must either have the **same shape** (except in the concatenating dimension) or be empty.\n",
        "\n",
        "[torch.stack](https://pytorch.org/docs/stable/generated/torch.stack.html): Concatenates a sequence of tensors along a new dimension. All tensors need to be of the same size."
      ]
    },
    {
      "cell_type": "code",
      "metadata": {
        "colab": {
          "base_uri": "https://localhost:8080/"
        },
        "id": "Zl4sOlCdfYFV",
        "outputId": "a80568be-02de-41d4-cfdc-6a489b63a984"
      },
      "source": [
        "t0 = torch.cat([x_rand, x_rand], 0)\n",
        "print(t0)\n",
        "t1 = torch.cat([x_rand, x_rand], 1)\n",
        "print(t1)"
      ],
      "execution_count": 7,
      "outputs": [
        {
          "output_type": "stream",
          "name": "stdout",
          "text": [
            "tensor([[0.0706, 0.6979],\n",
            "        [0.6434, 0.3060],\n",
            "        [0.0706, 0.6979],\n",
            "        [0.6434, 0.3060]], device='cuda:0')\n",
            "tensor([[0.0706, 0.6979, 0.0706, 0.6979],\n",
            "        [0.6434, 0.3060, 0.6434, 0.3060]], device='cuda:0')\n"
          ]
        }
      ]
    },
    {
      "cell_type": "code",
      "metadata": {
        "colab": {
          "base_uri": "https://localhost:8080/"
        },
        "id": "IL5m2tcXgv5_",
        "outputId": "4e70f6ed-40e8-4159-d8d9-e3d6912f7ef0"
      },
      "source": [
        "t2 = torch.stack([x_rand, x_rand], 1)\n",
        "t2"
      ],
      "execution_count": 8,
      "outputs": [
        {
          "output_type": "execute_result",
          "data": {
            "text/plain": [
              "tensor([[[0.0706, 0.6979],\n",
              "         [0.0706, 0.6979]],\n",
              "\n",
              "        [[0.6434, 0.3060],\n",
              "         [0.6434, 0.3060]]], device='cuda:0')"
            ]
          },
          "metadata": {},
          "execution_count": 8
        }
      ]
    },
    {
      "cell_type": "markdown",
      "metadata": {
        "id": "xuRQsNEjhgqw"
      },
      "source": [
        "**Multiplying tensors**\n",
        "\n",
        "[torch.mul](https://pytorch.org/docs/stable/generated/torch.mul.html)\n",
        "\n",
        "or\n",
        "\n",
        "`tensor * tensor`"
      ]
    },
    {
      "cell_type": "code",
      "metadata": {
        "colab": {
          "base_uri": "https://localhost:8080/"
        },
        "id": "_VMBAFk_hO2n",
        "outputId": "e83e40f7-eb60-415e-f1f5-893b0d04c77e"
      },
      "source": [
        "print(\"tensor * tensor: \\n\", t1 * t1)\n",
        "print(\"\\ntorch.mul(tensor, tensor): \\n\", torch.mul(t1, t1))"
      ],
      "execution_count": 9,
      "outputs": [
        {
          "output_type": "stream",
          "name": "stdout",
          "text": [
            "tensor * tensor: \n",
            " tensor([[0.0050, 0.4871, 0.0050, 0.4871],\n",
            "        [0.4140, 0.0936, 0.4140, 0.0936]], device='cuda:0')\n",
            "\n",
            "torch.mul(tensor, tensor): \n",
            " tensor([[0.0050, 0.4871, 0.0050, 0.4871],\n",
            "        [0.4140, 0.0936, 0.4140, 0.0936]], device='cuda:0')\n"
          ]
        }
      ]
    },
    {
      "cell_type": "markdown",
      "metadata": {
        "id": "fusu3Vbkiwzj"
      },
      "source": [
        "**Matrix multiplication**\n",
        "\n",
        "[torch.matmul](https://pytorch.org/docs/stable/generated/torch.matmul.html): Matrix product of two tensors.\n",
        "\n",
        "or\n",
        "\n",
        "`tensor @ tensor`"
      ]
    },
    {
      "cell_type": "code",
      "metadata": {
        "colab": {
          "base_uri": "https://localhost:8080/"
        },
        "id": "ZjdAGF8Ghq77",
        "outputId": "c4e4db98-3a3c-49f7-f2eb-3d0095fb8382"
      },
      "source": [
        "print(\"tensor @ tensor: \\n\", t1 @ t1.T)\n",
        "print(\"\\ntorch.matmul: \\n\", torch.matmul(t1, t1.T))"
      ],
      "execution_count": 10,
      "outputs": [
        {
          "output_type": "stream",
          "name": "stdout",
          "text": [
            "tensor @ tensor: \n",
            " tensor([[0.9841, 0.5179],\n",
            "        [0.5179, 1.0151]], device='cuda:0')\n",
            "\n",
            "torch.matmul: \n",
            " tensor([[0.9841, 0.5179],\n",
            "        [0.5179, 1.0151]], device='cuda:0')\n"
          ]
        }
      ]
    },
    {
      "cell_type": "markdown",
      "metadata": {
        "id": "2bE_ux30kf22"
      },
      "source": [
        "**In-place**\n",
        "\n",
        "Operations that have a `_` suffix are in-place. For example: `x.copy_(y)`, `x.t_()`, will change x.\n",
        "\n",
        "[t1.add_()](https://pytorch.org/docs/stable/generated/torch.Tensor.add_.html): In-place version of `add()` "
      ]
    },
    {
      "cell_type": "code",
      "metadata": {
        "colab": {
          "base_uri": "https://localhost:8080/"
        },
        "id": "BXi3CsRvkTm8",
        "outputId": "69da5a94-c503-4df9-b54b-4264f89a2e17"
      },
      "source": [
        "print(t1)\n",
        "print(\"\\nt1.add_(5): \\n\", t1.add_(5))"
      ],
      "execution_count": 11,
      "outputs": [
        {
          "output_type": "stream",
          "name": "stdout",
          "text": [
            "tensor([[0.0706, 0.6979, 0.0706, 0.6979],\n",
            "        [0.6434, 0.3060, 0.6434, 0.3060]], device='cuda:0')\n",
            "\n",
            "t1.add_(5): \n",
            " tensor([[5.0706, 5.6979, 5.0706, 5.6979],\n",
            "        [5.6434, 5.3060, 5.6434, 5.3060]], device='cuda:0')\n"
          ]
        }
      ]
    },
    {
      "cell_type": "markdown",
      "metadata": {
        "id": "HbrxRdWXlYYO"
      },
      "source": [
        "**Bridge with NumPy**\n",
        "\n",
        "Tensors on the CPU and NumPy arrays can share their underlying memory locations, and **changing one will change the other**.\n",
        "\n",
        "> **Tensor to Numpy array**"
      ]
    },
    {
      "cell_type": "code",
      "metadata": {
        "colab": {
          "base_uri": "https://localhost:8080/"
        },
        "id": "Ar1VBlKDlKS5",
        "outputId": "9ba2ea17-ce18-4e2b-d6e0-f294b998ec2a"
      },
      "source": [
        "shape = (5,)\n",
        "t = torch.ones(shape)\n",
        "n = t.numpy()\n",
        "print(n)"
      ],
      "execution_count": 12,
      "outputs": [
        {
          "output_type": "stream",
          "name": "stdout",
          "text": [
            "[1. 1. 1. 1. 1.]\n"
          ]
        }
      ]
    },
    {
      "cell_type": "code",
      "metadata": {
        "colab": {
          "base_uri": "https://localhost:8080/"
        },
        "id": "JLvNRjSBmIVg",
        "outputId": "6d5f2247-40c6-4051-fabf-e81423c943df"
      },
      "source": [
        "t.add_(1)\n",
        "print(f\"Tensor: {t}\\n\")\n",
        "print(f\"Numpy array: {n}\")"
      ],
      "execution_count": 13,
      "outputs": [
        {
          "output_type": "stream",
          "name": "stdout",
          "text": [
            "Tensor: tensor([2., 2., 2., 2., 2.])\n",
            "\n",
            "Numpy array: [2. 2. 2. 2. 2.]\n"
          ]
        }
      ]
    },
    {
      "cell_type": "markdown",
      "metadata": {
        "id": "12RApZ-Dnm3q"
      },
      "source": [
        "\n",
        "\n",
        "> **Numpy array to Tensor**"
      ]
    },
    {
      "cell_type": "code",
      "metadata": {
        "colab": {
          "base_uri": "https://localhost:8080/"
        },
        "id": "BJ33L9b9nao6",
        "outputId": "1c611693-15a5-4103-a839-68c813a5f185"
      },
      "source": [
        "n1 = np.ones(5)\n",
        "t3 = torch.from_numpy(n1)\n",
        "print(f\"Numpy Array: {n1}\\n\")\n",
        "print(f\"Tensor: {t3}\")"
      ],
      "execution_count": 14,
      "outputs": [
        {
          "output_type": "stream",
          "name": "stdout",
          "text": [
            "Numpy Array: [1. 1. 1. 1. 1.]\n",
            "\n",
            "Tensor: tensor([1., 1., 1., 1., 1.], dtype=torch.float64)\n"
          ]
        }
      ]
    },
    {
      "cell_type": "code",
      "metadata": {
        "colab": {
          "base_uri": "https://localhost:8080/"
        },
        "id": "HckLyowwoPOC",
        "outputId": "3aebf806-3c41-466a-edf3-c620e1a40888"
      },
      "source": [
        "n = np.add(n1, 3, out=n1) # https://numpy.org/doc/stable/reference/generated/numpy.add.html\n",
        "print(f\"Numpy Array: {n1}\\n\")\n",
        "print(f\"Tensor: {t3}\")"
      ],
      "execution_count": 15,
      "outputs": [
        {
          "output_type": "stream",
          "name": "stdout",
          "text": [
            "Numpy Array: [4. 4. 4. 4. 4.]\n",
            "\n",
            "Tensor: tensor([4., 4., 4., 4., 4.], dtype=torch.float64)\n"
          ]
        }
      ]
    },
    {
      "cell_type": "code",
      "metadata": {
        "colab": {
          "base_uri": "https://localhost:8080/"
        },
        "id": "hD7fnofsriuC",
        "outputId": "168a5140-497b-4491-d853-2e39af9b4068"
      },
      "source": [
        "t"
      ],
      "execution_count": 16,
      "outputs": [
        {
          "output_type": "execute_result",
          "data": {
            "text/plain": [
              "tensor([2., 2., 2., 2., 2.])"
            ]
          },
          "metadata": {},
          "execution_count": 16
        }
      ]
    },
    {
      "cell_type": "markdown",
      "metadata": {
        "id": "yximksCAo7ZJ"
      },
      "source": [
        "## AutoGrad\n",
        "\n",
        "[A Gentle Introduction to torch.autograd](https://pytorch.org/tutorials/beginner/blitz/autograd_tutorial.html#a-gentle-introduction-to-torch-autograd)\n",
        "\n",
        "`torch.autograd`: PyTorch’s automatic differentiation engine that powers neural network training\n",
        "\n",
        "**Neural networks (NNs)** are a collection of nested functions that are executed on some input data. These functions are defined by parameters (consisting of weights and biases), which in PyTorch are stored in tensors.\n",
        "\n",
        "> **Training a NN happens in two steps:**\n",
        "\n",
        "**Forward Propagation**: In forward prop, the NN makes its best guess about the correct output. It runs the input data through each of its functions to make this guess.\n",
        "\n",
        "**Backward Propagation**: In backprop, the NN adjusts its parameters proportionate to the error in its guess. It does this by traversing backwards from the output, **collecting the derivatives of the error with respect to the parameters of the functions (gradients)**, and **optimizing the parameters using gradient descent**. "
      ]
    },
    {
      "cell_type": "code",
      "metadata": {
        "colab": {
          "base_uri": "https://localhost:8080/",
          "height": 1000,
          "referenced_widgets": [
            "5868e307f88444c8af296267bee92175",
            "eff457134594439f9a8bbc424be64e2f",
            "eeaf4052f3e14572b4f393824f316d4b",
            "680771af85114289a437e078ab49d55e",
            "8b2f122d61c74b4e87a46066c4a26e33",
            "5bc2b5cc02914da682c131c18032c9fb",
            "5a18b01a5fb04c2482fbad7b989922b6",
            "67166b80349447aba9b84d0f1b327424",
            "2dffa98271ba42689ab2ab1e605b3773",
            "47192d036aa947bc84fa185ddfa5b761",
            "53ede3b5065344798c1a3cffcbb7cf42"
          ]
        },
        "id": "Vq-8S_UaojOJ",
        "outputId": "0a55b8c9-2047-4a23-a809-82838a94e0b8"
      },
      "source": [
        "'''\n",
        "We load a pretrained resnet18 model from torchvision.\n",
        "resnet18: https://pytorch.org/hub/pytorch_vision_resnet/\n",
        "\n",
        "We create a random data tensor to represent a single image with 3 channels, \n",
        "and height & width of 64, and its corresponding label initialized to some random values.\n",
        "\n",
        "Channels: Number of colours of the images.\n",
        "'''\n",
        "\n",
        "import torchvision.models as models\n",
        "resnet18 = models.resnet18(pretrained=True)\n",
        "data = torch.rand([1, 3, 64, 64])\n",
        "print(f\"Data: {data}\\n\")\n",
        "label = torch.rand(1, 1000)\n",
        "print(f\"Label: {label}\")"
      ],
      "execution_count": 17,
      "outputs": [
        {
          "output_type": "stream",
          "name": "stderr",
          "text": [
            "Downloading: \"https://download.pytorch.org/models/resnet18-f37072fd.pth\" to /root/.cache/torch/hub/checkpoints/resnet18-f37072fd.pth\n"
          ]
        },
        {
          "output_type": "display_data",
          "data": {
            "application/vnd.jupyter.widget-view+json": {
              "model_id": "5868e307f88444c8af296267bee92175",
              "version_minor": 0,
              "version_major": 2
            },
            "text/plain": [
              "  0%|          | 0.00/44.7M [00:00<?, ?B/s]"
            ]
          },
          "metadata": {}
        },
        {
          "output_type": "stream",
          "name": "stdout",
          "text": [
            "Data: tensor([[[[0.9246, 0.2989, 0.1009,  ..., 0.5176, 0.5625, 0.8333],\n",
            "          [0.9101, 0.5100, 0.8397,  ..., 0.0225, 0.5520, 0.3209],\n",
            "          [0.2722, 0.3762, 0.7924,  ..., 0.7289, 0.9018, 0.6407],\n",
            "          ...,\n",
            "          [0.5756, 0.4627, 0.6511,  ..., 0.9254, 0.4380, 0.5949],\n",
            "          [0.4591, 0.0194, 0.7919,  ..., 0.4100, 0.3505, 0.9790],\n",
            "          [0.7150, 0.0505, 0.1310,  ..., 0.5849, 0.6567, 0.5429]],\n",
            "\n",
            "         [[0.0548, 0.1362, 0.8384,  ..., 0.5212, 0.1000, 0.2554],\n",
            "          [0.7237, 0.0849, 0.1547,  ..., 0.0751, 0.0107, 0.4894],\n",
            "          [0.3348, 0.1445, 0.2069,  ..., 0.3742, 0.4749, 0.8630],\n",
            "          ...,\n",
            "          [0.1167, 0.8800, 0.9253,  ..., 0.6426, 0.0982, 0.8630],\n",
            "          [0.7441, 0.6138, 0.7221,  ..., 0.6254, 0.9300, 0.6300],\n",
            "          [0.4445, 0.1639, 0.3304,  ..., 0.3671, 0.3076, 0.1152]],\n",
            "\n",
            "         [[0.5336, 0.8634, 0.4703,  ..., 0.2744, 0.6872, 0.6266],\n",
            "          [0.3061, 0.0698, 0.2608,  ..., 0.9561, 0.4219, 0.0792],\n",
            "          [0.5884, 0.5117, 0.3433,  ..., 0.4506, 0.2527, 0.3052],\n",
            "          ...,\n",
            "          [0.7299, 0.5084, 0.3794,  ..., 0.1516, 0.2480, 0.9128],\n",
            "          [0.5285, 0.5484, 0.9455,  ..., 0.1529, 0.5694, 0.3342],\n",
            "          [0.9591, 0.8849, 0.0322,  ..., 0.0502, 0.2937, 0.9107]]]])\n",
            "\n",
            "Label: tensor([[0.2961, 0.0559, 0.4697, 0.1259, 0.2735, 0.7500, 0.9696, 0.5965, 0.0446,\n",
            "         0.6011, 0.1394, 0.2142, 0.2562, 0.0123, 0.0170, 0.7513, 0.8250, 0.2751,\n",
            "         0.0845, 0.5703, 0.7419, 0.1683, 0.7004, 0.4481, 0.0068, 0.7105, 0.5760,\n",
            "         0.7658, 0.7720, 0.6870, 0.9247, 0.6956, 0.8674, 0.0456, 0.6367, 0.8327,\n",
            "         0.2999, 0.4838, 0.2403, 0.1346, 0.5103, 0.8665, 0.6634, 0.9579, 0.8975,\n",
            "         0.3932, 0.2695, 0.9512, 0.7402, 0.8731, 0.0587, 0.4098, 0.4874, 0.0476,\n",
            "         0.9084, 0.1250, 0.0532, 0.3563, 0.1924, 0.7433, 0.8904, 0.5643, 0.1174,\n",
            "         0.7349, 0.1938, 0.6531, 0.5283, 0.9323, 0.3827, 0.0744, 0.2238, 0.1219,\n",
            "         0.3351, 0.2600, 0.3899, 0.1404, 0.6814, 0.1963, 0.6703, 0.8677, 0.6656,\n",
            "         0.0345, 0.8160, 0.6306, 0.8251, 0.0014, 0.1423, 0.3244, 0.6287, 0.0589,\n",
            "         0.6582, 0.0788, 0.1350, 0.9713, 0.4288, 0.0834, 0.8283, 0.9984, 0.4677,\n",
            "         0.6286, 0.8563, 0.5979, 0.3460, 0.9335, 0.6016, 0.0151, 0.7620, 0.1943,\n",
            "         0.4277, 0.0447, 0.1968, 0.8578, 0.7499, 0.2674, 0.1889, 0.9433, 0.4570,\n",
            "         0.5066, 0.2181, 0.2086, 0.7714, 0.1162, 0.0665, 0.4423, 0.5793, 0.3225,\n",
            "         0.3301, 0.8553, 0.9503, 0.0722, 0.8392, 0.3730, 0.5271, 0.0212, 0.9807,\n",
            "         0.7589, 0.6430, 0.6890, 0.4864, 0.9173, 0.7017, 0.1634, 0.7152, 0.2135,\n",
            "         0.9487, 0.0647, 0.7172, 0.5254, 0.8769, 0.8911, 0.7819, 0.3281, 0.4115,\n",
            "         0.9918, 0.6348, 0.6831, 0.7673, 0.2249, 0.1477, 0.8399, 0.5814, 0.9460,\n",
            "         0.3719, 0.7962, 0.4678, 0.7427, 0.3030, 0.6742, 0.5780, 0.7273, 0.3017,\n",
            "         0.9368, 0.8940, 0.2365, 0.1737, 0.9136, 0.8424, 0.7927, 0.9407, 0.5256,\n",
            "         0.4664, 0.0573, 0.7680, 0.2705, 0.2078, 0.0931, 0.8142, 0.7842, 0.2033,\n",
            "         0.3786, 0.8443, 0.2728, 0.8951, 0.5053, 0.6397, 0.5274, 0.8213, 0.2277,\n",
            "         0.3195, 0.8805, 0.2272, 0.7568, 0.2772, 0.7716, 0.6648, 0.6272, 0.6760,\n",
            "         0.4204, 0.0744, 0.1454, 0.9116, 0.8929, 0.0995, 0.5010, 0.0556, 0.4377,\n",
            "         0.6381, 0.2227, 0.5070, 0.8465, 0.5214, 0.5361, 0.9443, 0.7592, 0.3961,\n",
            "         0.0580, 0.2666, 0.2548, 0.2522, 0.3110, 0.7530, 0.6988, 0.0673, 0.5230,\n",
            "         0.0248, 0.2090, 0.8221, 0.5267, 0.3020, 0.9964, 0.1034, 0.7460, 0.1849,\n",
            "         0.6452, 0.9032, 0.7766, 0.9764, 0.6592, 0.1323, 0.1173, 0.0355, 0.1419,\n",
            "         0.4127, 0.3029, 0.3676, 0.5338, 0.6881, 0.0503, 0.9447, 0.8333, 0.1666,\n",
            "         0.2241, 0.8422, 0.7669, 0.4194, 0.7091, 0.2908, 0.7509, 0.6467, 0.3750,\n",
            "         0.1430, 0.1314, 0.2681, 0.2107, 0.7947, 0.9984, 0.4773, 0.3545, 0.0629,\n",
            "         0.1269, 0.3805, 0.2500, 0.4200, 0.5537, 0.8392, 0.6836, 0.2544, 0.3399,\n",
            "         0.2168, 0.5898, 0.6384, 0.2097, 0.7808, 0.9935, 0.3577, 0.7084, 0.7680,\n",
            "         0.2635, 0.3394, 0.8462, 0.1480, 0.1965, 0.1630, 0.2361, 0.9417, 0.9251,\n",
            "         0.2217, 0.7271, 0.4439, 0.5554, 0.4377, 0.3621, 0.9019, 0.2424, 0.1093,\n",
            "         0.9861, 0.4682, 0.5803, 0.8343, 0.8883, 0.1793, 0.0588, 0.4167, 0.5914,\n",
            "         0.3746, 0.0148, 0.9533, 0.1893, 0.3938, 0.8310, 0.1836, 0.9343, 0.9661,\n",
            "         0.6907, 0.2648, 0.2248, 0.4031, 0.2020, 0.0083, 0.0643, 0.9548, 0.6744,\n",
            "         0.7462, 0.8464, 0.7347, 0.6553, 0.5678, 0.4690, 0.1409, 0.8436, 0.7884,\n",
            "         0.0859, 0.3666, 0.7922, 0.5244, 0.2345, 0.5453, 0.0383, 0.7143, 0.7889,\n",
            "         0.4204, 0.4901, 0.5334, 0.8985, 0.0501, 0.9168, 0.7468, 0.0955, 0.8400,\n",
            "         0.5588, 0.2536, 0.6503, 0.3732, 0.3801, 0.3944, 0.6160, 0.8602, 0.6165,\n",
            "         0.7040, 0.9203, 0.7763, 0.0630, 0.3205, 0.0353, 0.4445, 0.3820, 0.9442,\n",
            "         0.8157, 0.3425, 0.1560, 0.1884, 0.1961, 0.2493, 0.9764, 0.6566, 0.3283,\n",
            "         0.5827, 0.5003, 0.2429, 0.7884, 0.3013, 0.5951, 0.8133, 0.1181, 0.2769,\n",
            "         0.3284, 0.3230, 0.3039, 0.5844, 0.6217, 0.2394, 0.9889, 0.1403, 0.1138,\n",
            "         0.3020, 0.4100, 0.5143, 0.7209, 0.2092, 0.6029, 0.9941, 0.6806, 0.3494,\n",
            "         0.1512, 0.5181, 0.6913, 0.8007, 0.6459, 0.1727, 0.8426, 0.9080, 0.5234,\n",
            "         0.5127, 0.4541, 0.4316, 0.7760, 0.0410, 0.0161, 0.1268, 0.0189, 0.9856,\n",
            "         0.9813, 0.5872, 0.5005, 0.6884, 0.7954, 0.7793, 0.3710, 0.8736, 0.8555,\n",
            "         0.0621, 0.2265, 0.2308, 0.2775, 0.3577, 0.6016, 0.2990, 0.8898, 0.8291,\n",
            "         0.8774, 0.1095, 0.5667, 0.9630, 0.0676, 0.6869, 0.2175, 0.4464, 0.6059,\n",
            "         0.2015, 0.5066, 0.3024, 0.0046, 0.2790, 0.9755, 0.4876, 0.9178, 0.4919,\n",
            "         0.2687, 0.4807, 0.7947, 0.8881, 0.2578, 0.8974, 0.5040, 0.5651, 0.1859,\n",
            "         0.7239, 0.7101, 0.4201, 0.3404, 0.3051, 0.3333, 0.9848, 0.3634, 0.5244,\n",
            "         0.7962, 0.2693, 0.5837, 0.0156, 0.2964, 0.3211, 0.7396, 0.8621, 0.9849,\n",
            "         0.3319, 0.9506, 0.9800, 0.8482, 0.0909, 0.3604, 0.8818, 0.4395, 0.0776,\n",
            "         0.9706, 0.3922, 0.5079, 0.8463, 0.7157, 0.6662, 0.0634, 0.9556, 0.4663,\n",
            "         0.2148, 0.8305, 0.1065, 0.9035, 0.7026, 0.3597, 0.0379, 0.2245, 0.5356,\n",
            "         0.3565, 0.4316, 0.1193, 0.9789, 0.6730, 0.0202, 0.8634, 0.9956, 0.4554,\n",
            "         0.1657, 0.6845, 0.1612, 0.5336, 0.4742, 0.6769, 0.0163, 0.4026, 0.9291,\n",
            "         0.0880, 0.5045, 0.6458, 0.7146, 0.7859, 0.7023, 0.8929, 0.7779, 0.4134,\n",
            "         0.3312, 0.6724, 0.1899, 0.5293, 0.6446, 0.0099, 0.5705, 0.8070, 0.0624,\n",
            "         0.2927, 0.8024, 0.3320, 0.0179, 0.8841, 0.5422, 0.0213, 0.4384, 0.0104,\n",
            "         0.5321, 0.6087, 0.5467, 0.1459, 0.5494, 0.1682, 0.4973, 0.5372, 0.4298,\n",
            "         0.2320, 0.9316, 0.2854, 0.9707, 0.4164, 0.3745, 0.2965, 0.5649, 0.9090,\n",
            "         0.9763, 0.7444, 0.8666, 0.1574, 0.8879, 0.2330, 0.2281, 0.6029, 0.8428,\n",
            "         0.6536, 0.5874, 0.3494, 0.8943, 0.1725, 0.8244, 0.5686, 0.5914, 0.9125,\n",
            "         0.5507, 0.8705, 0.3528, 0.8649, 0.2382, 0.9442, 0.1974, 0.9359, 0.1034,\n",
            "         0.4598, 0.5456, 0.8905, 0.7518, 0.6349, 0.9234, 0.8905, 0.2510, 0.7879,\n",
            "         0.9499, 0.4333, 0.1198, 0.9423, 0.6228, 0.3186, 0.6138, 0.5729, 0.0984,\n",
            "         0.6189, 0.6307, 0.4364, 0.2042, 0.5971, 0.0046, 0.6629, 0.5007, 0.8172,\n",
            "         0.3287, 0.4136, 0.9961, 0.7598, 0.7556, 0.8195, 0.6323, 0.6901, 0.6064,\n",
            "         0.5105, 0.1775, 0.9725, 0.9851, 0.6011, 0.6766, 0.1940, 0.3120, 0.4902,\n",
            "         0.4157, 0.2814, 0.9587, 0.1596, 0.9522, 0.5184, 0.9305, 0.6925, 0.5574,\n",
            "         0.6800, 0.3429, 0.9321, 0.3391, 0.5971, 0.4680, 0.3291, 0.7183, 0.7234,\n",
            "         0.6542, 0.1710, 0.2236, 0.7388, 0.5139, 0.7857, 0.6057, 0.5846, 0.4203,\n",
            "         0.6148, 0.7090, 0.8321, 0.1912, 0.8518, 0.6141, 0.6546, 0.0466, 0.5366,\n",
            "         0.2461, 0.6390, 0.4054, 0.0462, 0.4324, 0.6790, 0.1827, 0.6308, 0.9406,\n",
            "         0.0365, 0.3465, 0.6800, 0.1480, 0.6846, 0.0423, 0.9067, 0.2160, 0.1637,\n",
            "         0.9087, 0.8583, 0.4172, 0.3126, 0.9325, 0.6793, 0.7215, 0.5972, 0.7930,\n",
            "         0.8891, 0.8604, 0.0497, 0.4782, 0.1752, 0.0727, 0.1675, 0.2911, 0.1698,\n",
            "         0.2409, 0.1799, 0.6765, 0.2476, 0.7043, 0.7094, 0.0019, 0.3942, 0.6057,\n",
            "         0.8157, 0.3872, 0.8550, 0.7759, 0.2925, 0.6171, 0.3917, 0.6640, 0.7453,\n",
            "         0.8853, 0.7138, 0.7070, 0.3488, 0.2567, 0.0742, 0.4643, 0.5354, 0.3660,\n",
            "         0.2964, 0.8365, 0.9329, 0.0828, 0.2732, 0.7978, 0.5162, 0.9686, 0.8700,\n",
            "         0.5458, 0.4576, 0.2756, 0.1427, 0.5527, 0.5761, 0.9118, 0.1916, 0.7167,\n",
            "         0.4416, 0.1272, 0.3574, 0.3545, 0.6374, 0.6425, 0.9984, 0.7757, 0.4211,\n",
            "         0.9902, 0.1434, 0.0223, 0.6115, 0.1959, 0.7418, 0.9803, 0.9150, 0.8631,\n",
            "         0.2860, 0.4700, 0.5548, 0.0527, 0.7866, 0.6339, 0.4665, 0.0354, 0.3850,\n",
            "         0.2307, 0.4491, 0.6976, 0.2292, 0.0658, 0.3532, 0.7064, 0.0856, 0.1959,\n",
            "         0.1645, 0.9948, 0.7932, 0.3843, 0.0674, 0.7811, 0.3918, 0.4054, 0.3233,\n",
            "         0.1889, 0.2929, 0.0846, 0.7621, 0.6015, 0.4243, 0.2343, 0.9628, 0.3912,\n",
            "         0.3490, 0.6838, 0.2854, 0.7718, 0.1545, 0.4201, 0.3598, 0.7529, 0.6857,\n",
            "         0.2119, 0.9576, 0.0307, 0.7399, 0.8760, 0.6321, 0.9137, 0.2376, 0.4555,\n",
            "         0.5181, 0.0613, 0.9910, 0.6519, 0.7536, 0.3547, 0.8067, 0.1224, 0.3371,\n",
            "         0.5910, 0.0193, 0.6983, 0.6219, 0.9525, 0.6383, 0.0330, 0.1795, 0.1673,\n",
            "         0.5095, 0.3518, 0.8950, 0.0722, 0.9977, 0.1728, 0.9515, 0.7961, 0.1756,\n",
            "         0.9652, 0.6049, 0.0432, 0.5385, 0.5132, 0.4891, 0.2300, 0.8511, 0.6091,\n",
            "         0.1791, 0.3772, 0.3600, 0.4009, 0.6932, 0.2573, 0.1903, 0.2686, 0.2191,\n",
            "         0.2679, 0.8510, 0.6893, 0.9090, 0.7412, 0.2315, 0.0521, 0.0481, 0.2983,\n",
            "         0.2907, 0.0960, 0.6488, 0.9821, 0.7962, 0.5102, 0.6120, 0.6393, 0.6911,\n",
            "         0.3620, 0.4464, 0.6581, 0.6145, 0.9880, 0.0195, 0.1546, 0.2496, 0.3238,\n",
            "         0.0981, 0.6505, 0.4873, 0.6095, 0.8997, 0.1919, 0.6771, 0.8709, 0.3910,\n",
            "         0.8961, 0.6906, 0.4455, 0.1629, 0.2097, 0.0041, 0.2042, 0.6875, 0.7704,\n",
            "         0.2661, 0.6504, 0.8168, 0.4026, 0.4430, 0.7741, 0.0479, 0.7232, 0.0800,\n",
            "         0.9748, 0.5961, 0.8162, 0.1910, 0.6915, 0.2605, 0.2586, 0.6484, 0.3979,\n",
            "         0.6545, 0.6749, 0.4429, 0.9395, 0.5877, 0.1067, 0.7492, 0.7518, 0.3018,\n",
            "         0.6739, 0.0529, 0.8786, 0.9897, 0.9797, 0.5066, 0.2978, 0.4692, 0.9361,\n",
            "         0.9560, 0.6661, 0.7294, 0.9871, 0.0844, 0.4505, 0.1837, 0.5750, 0.3964,\n",
            "         0.8454, 0.1235, 0.5854, 0.2810, 0.7888, 0.0041, 0.5737, 0.9021, 0.2309,\n",
            "         0.1634]])\n"
          ]
        }
      ]
    },
    {
      "cell_type": "code",
      "metadata": {
        "colab": {
          "base_uri": "https://localhost:8080/"
        },
        "id": "WM4SjQWwtkHP",
        "outputId": "0258a3e5-1a5a-450a-e4f9-87d9c3dc21a3"
      },
      "source": [
        "predict = resnet18(data)  # Forward pass\n",
        "predict"
      ],
      "execution_count": 18,
      "outputs": [
        {
          "output_type": "execute_result",
          "data": {
            "text/plain": [
              "tensor([[-7.2284e-01, -3.1396e-01, -6.2205e-01, -1.2614e+00, -5.5684e-01,\n",
              "          5.2522e-02, -1.0537e-02,  3.1060e-01,  5.5016e-01, -5.3370e-01,\n",
              "         -1.4686e+00, -1.3068e+00, -3.5701e-01, -1.1041e+00, -1.2913e+00,\n",
              "         -6.8379e-01, -8.2431e-01, -3.8348e-01, -6.9276e-01, -8.1445e-01,\n",
              "         -1.5153e+00, -9.7048e-01, -1.5734e+00,  2.3151e-01, -9.5042e-01,\n",
              "         -1.1701e+00, -8.8455e-01, -1.1609e+00, -9.4618e-01, -1.5198e-01,\n",
              "         -7.2018e-01, -6.9228e-01, -2.8297e-01, -2.6625e-01, -8.6333e-02,\n",
              "         -1.2576e-01,  7.8864e-01, -5.3523e-01, -6.5943e-01,  2.2424e-02,\n",
              "         -8.5749e-01, -8.2222e-01, -1.0461e+00, -4.3593e-01, -6.5197e-01,\n",
              "         -3.9199e-01, -8.3963e-01, -6.2289e-01, -1.3658e+00, -9.7360e-01,\n",
              "         -4.5225e-01,  4.1784e-01, -2.2360e-01, -5.9253e-01, -3.1470e-01,\n",
              "         -1.2164e+00, -4.5799e-01, -1.3753e+00, -2.8766e-01, -5.4164e-01,\n",
              "          9.2773e-01,  1.2264e-01,  1.7797e-02,  3.6905e-01, -6.7976e-01,\n",
              "         -1.0668e-01, -3.2968e-01, -2.2907e-01, -6.8897e-01, -7.1585e-01,\n",
              "         -1.6250e+00,  9.0775e-02, -1.5883e+00, -2.3467e-01, -1.2799e+00,\n",
              "         -8.9866e-01,  1.1277e-01, -4.5302e-01,  7.0204e-01,  2.6318e-01,\n",
              "         -7.1988e-01, -1.5426e+00, -1.3824e-01, -6.8045e-01, -3.6192e-01,\n",
              "         -1.4576e-01, -5.9786e-02,  3.3532e-01, -9.9843e-02, -9.1934e-01,\n",
              "         -1.0958e+00, -1.2662e+00, -2.0721e+00, -5.2968e-01,  7.1532e-02,\n",
              "         -2.2917e+00, -7.3877e-01, -5.1234e-01, -1.2494e+00, -3.5680e-01,\n",
              "         -8.5657e-01, -4.9067e-01, -7.2622e-01, -2.0459e-01, -3.5654e-01,\n",
              "         -7.2231e-01, -2.4359e-01, -1.3818e+00, -1.0418e+00, -1.3023e+00,\n",
              "         -1.0754e+00, -4.2537e-01,  1.1186e+00,  3.3539e-01,  5.5880e-01,\n",
              "         -8.6009e-01, -8.5450e-01, -2.7407e-01,  4.8054e-01, -1.3266e-01,\n",
              "         -6.6622e-01,  8.2200e-02,  1.1448e-02,  1.5140e-01,  9.4741e-01,\n",
              "         -3.3541e-03,  3.9127e-01, -1.3632e+00, -8.9241e-01, -7.9879e-01,\n",
              "         -1.1710e+00, -1.4255e+00, -9.8274e-01, -1.8463e+00, -5.3261e-01,\n",
              "         -1.2066e+00, -9.9107e-01, -9.7696e-01, -1.2285e+00, -1.7890e+00,\n",
              "         -1.6380e+00, -1.4737e+00, -2.1324e+00, -1.5092e+00, -6.4581e-01,\n",
              "         -3.5568e-01, -9.2863e-01, -1.3381e+00, -9.4042e-01, -9.7235e-01,\n",
              "          6.4702e-01,  1.3824e+00, -8.7827e-01, -4.4420e-01,  2.3899e-01,\n",
              "          3.0395e-02, -3.7602e-01, -3.1416e-01,  1.6824e-01,  1.5719e-01,\n",
              "          4.3973e-01,  4.3135e-01, -2.6398e-01,  4.7142e-01,  2.0009e-01,\n",
              "         -2.2994e-01, -4.0516e-01, -7.0437e-01,  5.7114e-01, -2.6153e-01,\n",
              "          4.2789e-02,  7.8467e-01,  3.3931e-01,  3.3098e-01, -8.2799e-02,\n",
              "         -7.7046e-01,  3.6445e-02,  1.4659e-01,  5.6661e-01,  8.1642e-01,\n",
              "          6.1068e-01,  1.2169e-01,  5.2398e-01,  3.2670e-01,  1.0335e+00,\n",
              "          8.4703e-01,  4.9154e-01,  2.3938e-01,  1.6358e-01,  8.4377e-01,\n",
              "         -3.2433e-01,  5.1557e-01,  5.1591e-01,  6.1895e-01, -8.1514e-01,\n",
              "          5.6147e-01, -1.1021e-01,  1.7675e-01, -1.3573e-01,  9.3794e-01,\n",
              "          1.8954e-01, -9.0240e-03,  3.9677e-01,  4.3480e-01, -1.1069e-02,\n",
              "          4.0677e-01,  1.1179e-01,  7.3375e-01,  1.2455e+00,  5.9872e-01,\n",
              "          4.5666e-02,  5.7734e-01,  4.6387e-01,  2.8441e-01,  1.6266e-01,\n",
              "          2.1154e-01, -7.1070e-02,  3.3820e-01, -3.6389e-01,  7.6058e-01,\n",
              "          2.6344e-01, -4.4474e-02,  5.7098e-02,  5.5248e-01,  2.5785e-01,\n",
              "          4.0451e-01,  3.7279e-01,  6.3810e-01, -3.4683e-01, -2.8149e-01,\n",
              "         -1.0675e-01,  5.8278e-01,  3.7823e-01, -2.5487e-02,  8.6628e-01,\n",
              "          5.2293e-01,  5.4574e-01,  3.5364e-01,  7.7294e-01, -3.0618e-02,\n",
              "          2.4637e-01, -2.0600e-01,  4.9621e-01,  4.4109e-01, -4.0260e-01,\n",
              "          2.7657e-01,  4.6997e-01, -1.2860e-01,  4.6041e-01, -2.8808e-02,\n",
              "          2.5536e-01,  5.2645e-01, -6.5547e-01,  3.0537e-01,  6.6660e-01,\n",
              "         -6.9705e-01,  5.7174e-01,  2.5674e-01,  1.0859e-02,  2.3718e-01,\n",
              "         -2.4645e-02, -6.3095e-01, -1.5966e-01,  5.2576e-02,  4.8527e-01,\n",
              "          8.9337e-01,  2.9283e-01,  6.4413e-01, -5.6477e-03, -5.6394e-01,\n",
              "         -9.9438e-01, -1.4141e+00, -7.4248e-01,  7.3904e-01, -1.1485e+00,\n",
              "         -1.3164e+00, -1.0704e+00, -9.4599e-01, -1.5360e+00, -6.6986e-01,\n",
              "         -7.1617e-01,  6.5455e-01,  5.7184e-01,  1.5269e-01,  3.2137e-01,\n",
              "          6.6370e-01, -4.2568e-01, -2.9339e-01, -7.0186e-01, -1.4825e+00,\n",
              "         -1.0932e+00, -1.1841e+00, -5.6958e-01, -9.7344e-01, -8.2338e-01,\n",
              "         -7.4696e-01, -8.1389e-01, -1.0319e+00, -4.7677e-01, -1.5946e-02,\n",
              "         -1.6157e+00, -8.5914e-01, -1.9005e-01, -6.8413e-01, -1.1110e+00,\n",
              "         -6.1529e-01,  3.7609e-01, -9.5967e-01, -1.3805e+00, -9.4584e-01,\n",
              "          2.8721e-01, -4.9166e-01, -3.5723e-01, -1.2642e-01,  9.4965e-01,\n",
              "         -6.6645e-01, -4.8938e-01, -1.0690e+00, -1.3243e+00, -6.6919e-01,\n",
              "         -1.5666e+00, -1.3256e+00, -1.6156e+00, -1.9192e+00, -1.7341e+00,\n",
              "         -2.1931e+00, -1.2323e+00,  3.3106e-01,  5.3767e-02, -3.8328e-01,\n",
              "         -8.5080e-02, -2.5747e-01,  1.4580e-01,  5.6464e-02, -3.2378e-01,\n",
              "         -1.2612e+00, -1.7112e+00,  5.1318e-01,  8.1403e-01, -1.0631e+00,\n",
              "         -5.3360e-01,  5.3759e-01, -3.5365e-01, -1.2705e+00, -5.1271e-01,\n",
              "          8.1559e-01, -4.6329e-01, -1.3621e+00, -6.9517e-02, -1.2639e+00,\n",
              "         -1.3444e+00, -1.8834e+00, -1.3985e+00, -8.6334e-01, -6.7511e-01,\n",
              "          5.1086e-01,  9.0705e-01, -9.9463e-03,  1.1449e-01,  2.1808e-01,\n",
              "         -1.2970e-02,  6.1486e-02, -2.2807e-01,  3.5713e-01, -4.8928e-01,\n",
              "         -3.5175e-01, -9.1499e-01, -2.5919e-01, -1.0809e+00, -7.1603e-01,\n",
              "         -9.1323e-01, -2.5910e-01, -5.1061e-01,  1.9425e-01, -2.5450e-01,\n",
              "         -9.5691e-01, -9.1777e-01,  1.7599e-01, -6.2433e-01, -7.2001e-01,\n",
              "          2.1784e-01, -5.4154e-01, -6.6940e-01, -8.6908e-01, -9.8330e-01,\n",
              "         -2.5435e-01, -8.8106e-01, -1.2330e+00, -9.3586e-01, -3.5515e-01,\n",
              "          5.8510e-01,  2.1222e-01, -1.5186e+00, -1.7282e+00,  4.2078e-02,\n",
              "          6.6915e-01, -1.1933e+00, -7.6965e-01,  2.5181e-01,  1.9390e-01,\n",
              "         -9.6687e-01,  7.3917e-01, -1.3954e-02, -2.2627e+00, -1.6890e+00,\n",
              "         -6.9052e-01, -3.2967e-01, -1.6917e-01, -2.3175e-01,  9.0144e-01,\n",
              "         -6.2509e-01,  2.9720e-01,  2.1933e+00,  9.3437e-01,  1.7200e-01,\n",
              "          8.2940e-01, -4.4703e-01, -9.5069e-02,  4.7720e-01,  7.5349e-01,\n",
              "          7.2867e-01,  1.2791e+00, -2.2273e-01,  3.9147e-01,  1.1783e-01,\n",
              "         -1.0176e+00, -1.7173e-01,  1.2772e+00,  2.0307e+00,  5.5514e-01,\n",
              "         -6.9499e-01, -2.3641e-01,  4.6874e-01,  8.0598e-01,  3.9799e-01,\n",
              "          1.3591e+00, -4.2761e-01, -5.7705e-01,  4.4547e-01,  2.0700e-01,\n",
              "          1.1276e+00,  3.6691e-01,  1.7645e-01, -5.4702e-01, -2.4434e-01,\n",
              "          2.3371e-01,  4.6100e-01,  1.4742e+00,  9.7303e-01, -6.9940e-01,\n",
              "          1.6617e-01,  2.0966e-01,  4.0257e-01, -2.6453e-01, -3.9733e-01,\n",
              "          6.3254e-01,  1.1952e+00,  1.0860e+00, -1.8827e-01,  6.4068e-01,\n",
              "         -7.2431e-01,  5.8164e-01,  1.3460e+00,  2.8237e+00,  1.0206e+00,\n",
              "         -4.4331e-01, -1.1733e+00,  6.1653e-02, -3.0208e-01,  1.5071e+00,\n",
              "          1.0735e+00,  6.5323e-01,  3.1755e-01,  1.3330e+00, -1.7044e-01,\n",
              "          1.6237e-01,  1.2088e-01,  4.4502e-01,  7.8348e-01,  5.5748e-01,\n",
              "          1.3983e-01,  2.3719e-01,  4.9079e-01, -1.0985e+00, -1.3909e+00,\n",
              "          1.9186e-01, -4.2131e-01,  1.5733e+00,  1.7155e+00,  1.1552e+00,\n",
              "          5.0938e-01,  1.0391e+00,  7.3384e-01, -1.1537e+00,  1.2964e+00,\n",
              "         -9.8920e-01,  6.4631e-03, -7.4160e-01, -4.5690e-01,  1.2241e+00,\n",
              "         -1.5783e+00,  6.1323e-01,  1.1844e+00,  5.2327e-01,  1.1839e+00,\n",
              "          1.2369e+00,  8.3496e-01,  1.0686e+00,  4.8991e-01,  3.2525e-01,\n",
              "         -1.2569e+00, -6.0278e-01,  7.1750e-01,  2.4128e-01,  1.3578e+00,\n",
              "          1.6513e+00,  1.8163e-01, -1.8878e-01,  1.2467e+00,  5.0827e-01,\n",
              "         -9.3154e-01,  5.6508e-01,  7.8878e-01,  1.6210e+00,  3.5183e-01,\n",
              "         -5.7784e-01, -1.3474e-01, -2.7757e-01,  8.1660e-01, -1.7355e-01,\n",
              "          1.1462e+00,  5.0603e-01,  3.4128e-02, -1.0221e+00,  6.1442e-01,\n",
              "         -4.8233e-01, -5.6726e-01, -7.7260e-01, -2.5235e-01,  1.2667e+00,\n",
              "         -1.2274e+00,  1.7504e+00,  1.2356e+00,  8.8506e-01,  8.2204e-01,\n",
              "          6.8798e-01,  6.2305e-01, -2.2459e+00, -1.2861e+00, -1.6999e-01,\n",
              "         -9.0062e-02,  1.8694e-02,  5.3345e-01, -2.4061e-01, -1.3935e+00,\n",
              "         -6.3989e-01,  3.9802e-01,  1.8486e-01,  1.2628e+00,  9.3255e-01,\n",
              "         -1.3538e-01, -1.2363e-01,  7.3466e-01,  2.6717e-03, -1.4616e+00,\n",
              "         -1.0984e+00,  3.6189e-01,  1.0067e+00,  2.9812e-01, -7.3027e-01,\n",
              "          1.0327e+00,  5.3185e-01,  7.2899e-01, -4.9418e-01,  4.8735e-01,\n",
              "         -1.1804e-01, -7.6487e-01,  1.2645e+00,  4.1211e-01, -1.0429e-01,\n",
              "         -1.5115e-01, -2.9970e-01,  8.4276e-01,  8.6341e-01,  1.0069e+00,\n",
              "          9.1270e-01, -2.7391e-01,  1.8167e+00,  1.1378e+00,  1.2276e+00,\n",
              "         -4.7957e-01,  3.0521e-01, -4.3458e-01,  8.6481e-01,  3.2071e-01,\n",
              "         -5.9506e-01,  1.1613e+00, -7.5473e-02, -5.1500e-01,  4.3793e-01,\n",
              "          2.1668e+00, -2.8832e-01, -2.9546e-01, -3.8174e-01,  5.8526e-01,\n",
              "          4.2147e-01,  1.5280e+00, -6.1597e-01,  5.2820e-01, -4.5653e-02,\n",
              "          1.0027e+00,  6.3230e-01, -3.5120e-01,  8.1902e-01, -9.2196e-02,\n",
              "          4.6177e-01,  8.5497e-01,  3.7737e-01,  1.9554e+00,  6.7516e-01,\n",
              "          1.1023e+00,  7.1827e-01,  2.4875e-01,  6.1284e-01, -1.7992e-01,\n",
              "         -1.1697e+00,  1.3167e+00, -3.8335e-01, -1.2558e+00,  3.8667e-01,\n",
              "          1.4015e-02,  1.0998e+00,  5.5920e-01,  8.6167e-01, -3.1818e-01,\n",
              "          2.7557e-01,  1.1522e+00,  9.7463e-01,  6.5033e-01,  2.7684e-01,\n",
              "         -1.6740e+00,  1.1741e+00, -5.5101e-02,  1.3092e+00,  7.5098e-01,\n",
              "         -8.4743e-01,  7.8130e-01,  5.0381e-01, -4.4223e-01, -1.4803e+00,\n",
              "          9.0608e-01,  4.1971e-01,  5.2204e-01,  1.1653e+00, -1.4417e-01,\n",
              "          5.6877e-01, -1.8369e-03,  4.4258e-02, -1.0057e-01,  5.5053e-01,\n",
              "         -1.8751e-01, -1.1304e+00,  9.1660e-02, -9.0089e-01,  7.6104e-01,\n",
              "          2.3076e-01,  1.4256e+00,  2.7775e-01, -1.0002e+00, -6.2566e-01,\n",
              "          5.0613e-01,  5.4517e-02, -3.8622e-01,  4.9064e-01,  1.3481e+00,\n",
              "         -7.2268e-01,  1.7373e+00,  1.2161e+00,  9.0778e-01,  1.5665e-01,\n",
              "          5.2216e-01,  5.2043e-01, -7.6397e-01,  6.3280e-01,  7.9800e-01,\n",
              "         -1.2190e+00, -1.6995e-02, -1.5403e+00, -2.2228e-01, -7.2039e-01,\n",
              "         -4.2463e-01,  4.9656e-01,  1.0063e+00,  8.5623e-01, -9.8520e-01,\n",
              "          1.0894e+00,  1.5718e+00,  1.0960e-01, -7.6035e-01,  4.6953e-01,\n",
              "          2.0170e+00, -4.9276e-01, -1.5903e-01,  1.2045e-01,  7.1501e-01,\n",
              "         -4.1392e-01, -3.0043e-01,  7.4469e-01,  1.0925e+00,  1.9754e-01,\n",
              "          9.8047e-01,  9.2290e-01,  9.9102e-02, -3.6822e-01,  5.7121e-01,\n",
              "         -5.5121e-01,  4.9508e-01, -5.7179e-01, -4.9888e-01,  7.7301e-01,\n",
              "          4.4624e-01, -9.2210e-02,  1.6747e+00,  4.7959e-02, -8.2384e-01,\n",
              "          1.4194e+00, -7.6988e-01, -6.0222e-01,  1.3763e+00, -4.8149e-01,\n",
              "          3.0876e-01,  2.4028e+00, -6.6305e-01,  1.6022e+00, -1.3230e+00,\n",
              "         -8.8269e-02,  5.5360e-02,  1.2405e+00,  1.0370e+00,  3.1747e-01,\n",
              "          1.0812e+00,  1.3258e-02,  3.6764e-01,  1.0262e-01,  6.3590e-01,\n",
              "          2.8513e-01,  5.6422e-02,  8.0865e-01,  8.0206e-01,  9.9576e-01,\n",
              "          2.4301e-01,  1.3205e-01,  1.3239e-01,  6.4502e-01,  8.7034e-01,\n",
              "         -5.9492e-01,  1.1625e+00, -1.6740e-01,  1.2896e+00, -1.9731e-02,\n",
              "          2.7032e-01,  9.9549e-01,  2.0682e-01,  9.1586e-01,  1.3179e+00,\n",
              "          8.5757e-01,  6.9569e-01,  6.1321e-01, -9.1582e-03,  1.4211e+00,\n",
              "          4.8624e-01,  7.0275e-01,  1.2381e+00,  8.6563e-01,  6.1452e-01,\n",
              "          3.5270e-01,  3.2070e-01,  4.4046e-01,  1.7548e+00, -1.3246e+00,\n",
              "         -1.1524e+00, -8.3495e-01,  8.7656e-01,  1.0726e+00,  1.5697e+00,\n",
              "          3.0237e-01,  5.9926e-01,  1.3219e+00,  7.3257e-02, -1.6178e-01,\n",
              "          9.7981e-01,  1.2943e+00,  1.7453e+00,  8.7105e-01,  3.7213e-01,\n",
              "          1.5515e-01,  8.6265e-01,  6.8956e-01, -1.0076e+00,  4.3935e-01,\n",
              "         -7.3695e-01,  5.0068e-01, -8.5690e-01, -1.5232e+00,  1.3589e+00,\n",
              "          1.3744e+00,  1.2695e-01,  9.1772e-02,  1.4456e+00,  1.4310e-01,\n",
              "         -2.5549e-01,  1.0278e+00, -3.0724e-01,  1.7332e+00, -1.0457e+00,\n",
              "         -1.9824e-01,  4.3535e-01, -1.0477e+00,  1.3782e+00,  2.7101e-01,\n",
              "         -1.4091e+00, -1.2042e+00,  6.8353e-01,  7.1941e-01,  6.4859e-01,\n",
              "         -9.3103e-01,  4.7950e-01,  1.3589e+00,  1.4247e+00, -6.8877e-01,\n",
              "          1.0560e+00,  1.6798e-01, -7.4195e-01, -7.3992e-01, -1.2343e-01,\n",
              "          6.0167e-01,  1.5527e+00,  1.5976e+00,  1.0403e+00, -5.9550e-01,\n",
              "          1.4654e+00,  3.6368e-01,  6.7248e-01,  6.1050e-01,  8.2686e-01,\n",
              "          1.6630e+00,  6.3213e-01, -3.4720e-01,  5.8198e-01,  9.0002e-01,\n",
              "          1.2460e+00,  1.4260e+00,  1.7129e+00, -7.2216e-01, -5.7891e-01,\n",
              "          8.9114e-01, -4.3557e-01, -8.5363e-02, -7.7896e-01,  1.2012e+00,\n",
              "          2.1338e-01,  1.4651e+00,  1.2309e+00, -1.7318e-01, -2.8219e-01,\n",
              "          7.2241e-01,  1.6687e-01, -1.4045e-01,  1.6764e+00, -5.6915e-01,\n",
              "          1.1347e+00, -1.4332e+00,  1.2546e+00, -1.1787e+00, -2.3842e+00,\n",
              "          2.7392e-01,  1.7483e+00,  1.1504e-01, -6.9523e-02,  1.7521e+00,\n",
              "          1.0559e+00, -3.6448e-01,  1.3276e+00,  1.3991e+00, -5.2205e-02,\n",
              "          1.4280e-01, -1.4087e-01, -3.6052e-01, -1.1069e+00,  9.0039e-02,\n",
              "         -5.1266e-01,  4.6196e-01,  6.8422e-01,  2.1933e-01, -6.1577e-01,\n",
              "         -8.1988e-01,  1.4522e+00,  9.5125e-01,  2.0860e+00,  2.1677e+00,\n",
              "         -1.1370e+00, -6.9458e-02,  1.7553e+00,  8.5758e-01,  8.0300e-01,\n",
              "         -4.1457e-01, -6.2121e-01,  1.2074e+00, -9.6225e-01,  1.1861e+00,\n",
              "          1.3672e+00,  7.6368e-01,  7.1975e-01, -4.0752e-01, -1.8079e+00,\n",
              "         -4.8124e-01,  1.3038e-01,  3.3249e-01,  4.5111e-01,  1.7903e-01,\n",
              "         -4.3870e-01,  1.1633e+00, -7.5011e-01,  4.5919e-01, -5.5410e-01,\n",
              "         -1.0547e+00, -7.8880e-01, -7.3068e-01, -1.5708e-01,  1.4428e+00,\n",
              "         -2.6953e-01, -1.2248e-01,  7.0321e-01, -1.9464e+00, -5.0333e-02,\n",
              "         -3.8382e-01,  3.5457e-01,  4.2628e-01,  5.6210e-02, -7.8945e-02,\n",
              "         -4.6145e-01, -8.0119e-01, -2.2815e-01,  3.8141e-01, -8.1215e-01,\n",
              "         -4.5629e-01, -1.3672e+00,  4.3012e-01,  7.7850e-01, -2.0789e-01,\n",
              "         -1.4922e-02, -8.1049e-01, -4.6963e-01, -1.6008e-01,  4.5278e-01,\n",
              "         -6.2439e-01, -1.6320e-01, -3.4371e-01, -8.6045e-02, -1.0403e+00,\n",
              "          2.6513e-01,  4.7772e-01, -3.3245e-01, -8.2260e-01, -9.3487e-01,\n",
              "         -2.8405e-01,  2.9707e-01, -3.3763e-01,  1.0770e+00, -4.7771e-02,\n",
              "         -1.3666e-01,  9.7422e-01, -6.1820e-01, -5.2372e-01, -1.8992e+00,\n",
              "          8.3145e-01, -1.8667e+00,  4.8913e-01, -5.8620e-02, -8.5488e-01,\n",
              "         -3.2606e-01,  2.3000e-01,  4.2635e-01, -2.8365e-01, -1.4433e+00,\n",
              "         -1.6179e+00, -2.4575e+00,  1.0772e+00, -3.8965e-01, -8.3229e-01,\n",
              "         -4.2581e-01, -1.3333e+00, -9.1554e-01, -1.6873e+00, -6.4608e-01,\n",
              "         -3.4150e-01,  1.7703e-01, -6.5199e-01,  9.7835e-01,  1.2222e+00]],\n",
              "       grad_fn=<AddmmBackward0>)"
            ]
          },
          "metadata": {},
          "execution_count": 18
        }
      ]
    },
    {
      "cell_type": "markdown",
      "metadata": {
        "id": "3Iojlp9fvaKC"
      },
      "source": [
        "We use the model’s prediction and the corresponding label to calculate the error (`loss`). \n",
        "\n",
        "The next step is to backpropagate this error through the network. Backward propagation is kicked off when we call `.backward()` on the error tensor. *Autograd* then calculates and stores the gradients for each model parameter in the parameter’s `.grad` attribute."
      ]
    },
    {
      "cell_type": "code",
      "metadata": {
        "id": "-vDJknn4vReU"
      },
      "source": [
        "loss = predict - label\n",
        "loss.sum().backward() # backward pass"
      ],
      "execution_count": 19,
      "outputs": []
    },
    {
      "cell_type": "markdown",
      "metadata": {
        "id": "iU5-D96P3i4H"
      },
      "source": [
        "Next, we load an **optimizer**, in this case SGD with a *learning rate* of 0.01 and *momentum* of 0.9. We register all the parameters of the model in the optimizer."
      ]
    },
    {
      "cell_type": "code",
      "metadata": {
        "id": "ivWl8gz13hcZ"
      },
      "source": [
        "optim = torch.optim.SGD(resnet18.parameters(), lr=1e-2, momentum=0.9)"
      ],
      "execution_count": 20,
      "outputs": []
    },
    {
      "cell_type": "markdown",
      "metadata": {
        "id": "dDJ11BK138cc"
      },
      "source": [
        "Finally, we call `.step()` to initiate gradient descent. The optimizer adjusts each parameter by its gradient stored in `.grad`."
      ]
    },
    {
      "cell_type": "code",
      "metadata": {
        "id": "y600As4g3wZh"
      },
      "source": [
        "optim.step() #gradient descent"
      ],
      "execution_count": 21,
      "outputs": []
    },
    {
      "cell_type": "markdown",
      "metadata": {
        "id": "HOX0ldLf8N4O"
      },
      "source": [
        "## Neural Networks\n",
        "\n",
        "[Neural Networks](https://pytorch.org/tutorials/beginner/blitz/neural_networks_tutorial.html#neural-networks)\n",
        "\n",
        "Neural networks can be constructed using the `torch.nn` package. \n",
        "\n",
        "`nn` depends on `autograd` to define models and differentiate them. An `nn.Module` contains layers, and a method `forward(input)` that returns the `output`.\n",
        "\n",
        "A typical training procedure for a neural network is as follows:\n",
        "\n",
        "    1. Define the neural network that has some learnable parameters (or weights)\n",
        "    2. Iterate over a dataset of inputs\n",
        "    3. Process input through the network\n",
        "    4. Compute the loss (how far is the output from being correct)\n",
        "    5. Propagate gradients back into the network’s parameters\n",
        "    6. Update the weights of the network, typically using a simple update rule: weight = weight - learning_rate * gradient\n",
        "\n",
        "\n",
        "Here we construct a simple **Feed-Foward Neural Network**. It takes the input, feeds it through several layers one after the other, and then finally gives the output.\n",
        "\n",
        "[Conventions of Covolutional Neural Networks](https://towardsdatascience.com/a-guide-to-an-efficient-way-to-build-neural-network-architectures-part-ii-hyper-parameter-42efca01e5d7)"
      ]
    },
    {
      "cell_type": "code",
      "metadata": {
        "id": "TxLlikvc4ewd",
        "colab": {
          "base_uri": "https://localhost:8080/"
        },
        "outputId": "91e1fe12-342b-4660-d965-2a5aaae42810"
      },
      "source": [
        "import torch \n",
        "import torch.nn as nn\n",
        "import torch.nn.functional as F\n",
        "\n",
        "class Network(nn.Module):\n",
        "  def __init__(self):\n",
        "    super(Network, self).__init__()\n",
        "    self.conv1 = nn.Conv2d(1, 6, 5)\n",
        "    self.conv2 = nn.Conv2d(6, 12, 5)\n",
        "    self.fc1 = nn.Linear(12 * 5 * 5, 50)  # 5*5 from image dimension\n",
        "    self.fc2 = nn.Linear(50, 30)\n",
        "    self.fc3 = nn.Linear(30, 10)\n",
        "  def forward(self, source):\n",
        "    source = F.max_pool2d(F.relu(self.conv1(source)), (2, 2))\n",
        "    source = F.max_pool2d(F.relu(self.conv2(source)), 2)\n",
        "    source = torch.flatten(source, 1)\n",
        "    source = F.relu(self.fc1(source))\n",
        "    source = F.relu(self.fc2(source))\n",
        "    source = self.fc3(source)\n",
        "    return source\n",
        "  \n",
        "net = Network()\n",
        "print(net)"
      ],
      "execution_count": 22,
      "outputs": [
        {
          "output_type": "stream",
          "name": "stdout",
          "text": [
            "Network(\n",
            "  (conv1): Conv2d(1, 6, kernel_size=(5, 5), stride=(1, 1))\n",
            "  (conv2): Conv2d(6, 12, kernel_size=(5, 5), stride=(1, 1))\n",
            "  (fc1): Linear(in_features=300, out_features=50, bias=True)\n",
            "  (fc2): Linear(in_features=50, out_features=30, bias=True)\n",
            "  (fc3): Linear(in_features=30, out_features=10, bias=True)\n",
            ")\n"
          ]
        }
      ]
    },
    {
      "cell_type": "code",
      "metadata": {
        "colab": {
          "base_uri": "https://localhost:8080/"
        },
        "id": "mNcKDMnZY0o_",
        "outputId": "2ad78090-6884-4d59-c08a-a7321fba03a9"
      },
      "source": [
        "input = torch.randn(1, 1, 32, 32)\n",
        "out = net(input)\n",
        "print(out)"
      ],
      "execution_count": 23,
      "outputs": [
        {
          "output_type": "stream",
          "name": "stdout",
          "text": [
            "tensor([[-0.0998,  0.1806,  0.1081, -0.0550,  0.0706, -0.0554, -0.1356,  0.1569,\n",
            "          0.0452,  0.0678]], grad_fn=<AddmmBackward0>)\n"
          ]
        }
      ]
    },
    {
      "cell_type": "code",
      "metadata": {
        "id": "bokS_hGlc_OC"
      },
      "source": [
        "net.zero_grad()\n",
        "out.backward(torch.randn(1, 10))"
      ],
      "execution_count": 24,
      "outputs": []
    },
    {
      "cell_type": "markdown",
      "metadata": {
        "id": "DS7HODGRlfJ_"
      },
      "source": [
        "## Image Classification\n",
        "\n",
        "[Training a classifier](https://pytorch.org/tutorials/beginner/blitz/cifar10_tutorial.html#training-a-classifier)\n",
        "\n",
        "We will use the CIFAR10 dataset. It has the classes: `airplane`, `automobile`, `‘bird’`, `cat`, `deer`, `dog`, `frog`, `horse`, `ship`, `truck`. The images in CIFAR-10 are of size *3x32x32*, i.e. **3-channel color images of 32x32 pixels in size**.\n",
        "\n",
        "We will do the following steps in order:\n",
        "\n",
        "    1. Load and normalize the CIFAR10 training and test datasets using torchvision \n",
        "    (We transform them to Tensors of normalized range [-1, 1].)\n",
        "    2. Define a Convolutional Neural Network\n",
        "    3. Define a loss function\n",
        "    4. Train the network on the training data\n",
        "    5. Test the network on the test data"
      ]
    },
    {
      "cell_type": "markdown",
      "metadata": {
        "id": "5ZWNBGyooPZh"
      },
      "source": [
        "\n",
        "---\n",
        "> We need to transform PIL.Image into tensors to read data, and vice versa for data output.\n",
        "\n",
        "We can use [`transforms.ToTensor()`](https://pytorch.org/vision/master/generated/torchvision.transforms.ToTensor.html) to transform PIL.Image/numpy.ndarray into torch.FloadTensor, and normalize to $[0, 1.0]$：\n",
        "\n",
        "    - PIL.Image in [0, 255] will be transformed into \n",
        "      FloatTensor with shape of [C, H, W] and range of [0, 1.0];\n",
        "    - numpy.ndarray with shape of [H, W, C] will be transformed into \n",
        "      FloatTensor with shape of [C, H, W] and range of [0, 1.0]\n",
        "\n",
        "\n",
        "1. We usually use `transforms.Compose` to combine transforms.\n",
        "2. `transforms.Normalize` use the equation below to normalize:\n",
        "\n",
        "$$ channel=（channel-mean）/ std$$\n",
        "\n",
        "As such, every element in our data turns into a value with range of [-1, 1].\n",
        "\n",
        "[Reference1](https://zhuanlan.zhihu.com/p/27382990)"
      ]
    },
    {
      "cell_type": "code",
      "metadata": {
        "colab": {
          "base_uri": "https://localhost:8080/",
          "height": 156,
          "referenced_widgets": [
            "8e93dc560b6347cbaa3c5cb15d492780",
            "0a0bebae9b5f40c8af814b79ae02e90c",
            "1b72308a4ba34d2dbf216b244ca6324e",
            "fff32c963515499ba29c5daecf1285bf",
            "b24084bfdb9442f483debd935e67e9d6",
            "6610b34b052e4ad89aa003f0198b9c41",
            "6d2f0b3c1e6148389d273d30d9cac217",
            "38a72551e81c4658b4467fd1171f4b9f",
            "ad46faad936d4807b0b62dc7c86406cb",
            "97c6d8ad82c946ea83f2679c0fc1c750",
            "ca456481821e4881898bbe6ef1f53fcf"
          ]
        },
        "id": "5LpNaNgVlV-8",
        "outputId": "131c6429-2436-419b-f337-e2651fbf09f4"
      },
      "source": [
        "import torchvision.datasets as datasets\n",
        "import torchvision.transforms as transforms\n",
        "\n",
        "transform = transforms.Compose([\n",
        "                                transforms.ToTensor(),\n",
        "                                transforms.Normalize(mean = (0.5, 0.5, 0.5), std = (0.5, 0.5, 0.5))\n",
        "])\n",
        "\n",
        "batch_size = 4\n",
        "\n",
        "train = datasets.CIFAR10(root=\"./data\", train=True, download=True, transform=transform)   # https://pytorch.org/vision/stable/datasets.html#torchvision-datasets\n",
        "trainLoader = torch.utils.data.DataLoader(train, batch_size=batch_size, shuffle=True, num_workers=4)   # https://pytorch.org/docs/stable/data.html\n",
        "\n",
        "\n",
        "test = datasets.CIFAR10(root=\"./data\", train=False, download=True, transform=transform)\n",
        "testLoader = torch.utils.data.DataLoader(test, batch_size=4, shuffle=True, num_workers=4)"
      ],
      "execution_count": 25,
      "outputs": [
        {
          "output_type": "stream",
          "name": "stdout",
          "text": [
            "Downloading https://www.cs.toronto.edu/~kriz/cifar-10-python.tar.gz to ./data/cifar-10-python.tar.gz\n"
          ]
        },
        {
          "output_type": "display_data",
          "data": {
            "application/vnd.jupyter.widget-view+json": {
              "model_id": "8e93dc560b6347cbaa3c5cb15d492780",
              "version_minor": 0,
              "version_major": 2
            },
            "text/plain": [
              "  0%|          | 0/170498071 [00:00<?, ?it/s]"
            ]
          },
          "metadata": {}
        },
        {
          "output_type": "stream",
          "name": "stdout",
          "text": [
            "Extracting ./data/cifar-10-python.tar.gz to ./data\n"
          ]
        },
        {
          "output_type": "stream",
          "name": "stderr",
          "text": [
            "/usr/local/lib/python3.7/dist-packages/torch/utils/data/dataloader.py:481: UserWarning: This DataLoader will create 4 worker processes in total. Our suggested max number of worker in current system is 2, which is smaller than what this DataLoader is going to create. Please be aware that excessive worker creation might get DataLoader running slow or even freeze, lower the worker number to avoid potential slowness/freeze if necessary.\n",
            "  cpuset_checked))\n"
          ]
        },
        {
          "output_type": "stream",
          "name": "stdout",
          "text": [
            "Files already downloaded and verified\n"
          ]
        }
      ]
    },
    {
      "cell_type": "code",
      "source": [
        "classes = ('plane', 'car', 'bird', 'cat',\n",
        "           'deer', 'dog', 'frog', 'horse', 'ship', 'truck')"
      ],
      "metadata": {
        "id": "YFE6hhP8I_D2"
      },
      "execution_count": 26,
      "outputs": []
    },
    {
      "cell_type": "code",
      "metadata": {
        "colab": {
          "base_uri": "https://localhost:8080/",
          "height": 210
        },
        "id": "_CmxS6knr6er",
        "outputId": "2d62dc91-ba4a-41ae-f8ee-3c9950a73caa"
      },
      "source": [
        "import matplotlib.pyplot as plt\n",
        "import numpy as np\n",
        "import torchvision.utils as utils\n",
        "\n",
        "def imshow(img):\n",
        "    img = img / 2 + 0.5 \n",
        "    npimg = img.numpy()\n",
        "    plt.imshow(np.transpose(npimg, (1, 2, 0)))\n",
        "    plt.show()\n",
        "\n",
        "dataiter = iter(trainLoader)\n",
        "images, labels = dataiter.next()\n",
        "\n",
        "imshow(utils.make_grid(images))\n",
        "print(' '.join('%5s' % classes[labels[j]] for j in range(batch_size)))"
      ],
      "execution_count": 27,
      "outputs": [
        {
          "output_type": "stream",
          "name": "stderr",
          "text": [
            "/usr/local/lib/python3.7/dist-packages/torch/utils/data/dataloader.py:481: UserWarning: This DataLoader will create 4 worker processes in total. Our suggested max number of worker in current system is 2, which is smaller than what this DataLoader is going to create. Please be aware that excessive worker creation might get DataLoader running slow or even freeze, lower the worker number to avoid potential slowness/freeze if necessary.\n",
            "  cpuset_checked))\n"
          ]
        },
        {
          "output_type": "display_data",
          "data": {
            "image/png": "[encoded data removed]",
            "text/plain": [
              "<Figure size 432x288 with 1 Axes>"
            ]
          },
          "metadata": {
            "needs_background": "light"
          }
        },
        {
          "output_type": "stream",
          "name": "stdout",
          "text": [
            " frog plane  deer  ship\n"
          ]
        }
      ]
    },
    {
      "cell_type": "code",
      "metadata": {
        "id": "mMBG1GSnKUXv"
      },
      "source": [
        "class Network(nn.Module):\n",
        "  def __init__(self):\n",
        "    super(Network, self).__init__()\n",
        "    self.conv1 = nn.Conv2d(3, 6, 5)\n",
        "    self.conv2 = nn.Conv2d(6, 16, 5)\n",
        "    self.fc1 = nn.Linear(16 * 5* 5, 120)  # 5*5 from image dimension\n",
        "    self.fc2 = nn.Linear(120, 84)\n",
        "    self.fc3 = nn.Linear(84, 10)\n",
        "  def forward(self, source):\n",
        "    source = F.max_pool2d(F.relu(self.conv1(source)), (2, 2))\n",
        "    source = F.max_pool2d(F.relu(self.conv2(source)), 2)\n",
        "    source = torch.flatten(source, 1)\n",
        "    source = F.relu(self.fc1(source))\n",
        "    source = F.relu(self.fc2(source))\n",
        "    source = self.fc3(source)\n",
        "    return source\n",
        "  \n",
        "net = Network()"
      ],
      "execution_count": 35,
      "outputs": []
    },
    {
      "cell_type": "code",
      "source": [
        "import torch.optim as optim\n",
        "\n",
        "criterion = nn.CrossEntropyLoss()\n",
        "optimizer = optim.SGD(net.parameters(), lr=0.001, momentum=0.9)"
      ],
      "metadata": {
        "id": "SCfDl974Jj0C"
      },
      "execution_count": 36,
      "outputs": []
    },
    {
      "cell_type": "code",
      "source": [
        "for epoch in range(10):  # loop over the dataset multiple times\n",
        "\n",
        "    running_loss = 0.0\n",
        "    for i, data in enumerate(trainLoader, 0):\n",
        "        # get the inputs; data is a list of [inputs, labels]\n",
        "        inputs, labels = data\n",
        "\n",
        "        # zero the parameter gradients\n",
        "        optimizer.zero_grad()\n",
        "\n",
        "        # forward + backward + optimize\n",
        "        outputs = net(inputs)\n",
        "        loss = criterion(outputs, labels)\n",
        "        loss.backward()\n",
        "        optimizer.step()\n",
        "\n",
        "        # print statistics\n",
        "        running_loss += loss.item()\n",
        "        if i % 2000 == 1999:    # print every 2000 mini-batches\n",
        "            print('[%d, %5d] loss: %.3f' %\n",
        "                  (epoch + 1, i + 1, running_loss / 2000))\n",
        "            running_loss = 0.0\n",
        "\n",
        "print('Finished Training')"
      ],
      "metadata": {
        "colab": {
          "base_uri": "https://localhost:8080/"
        },
        "id": "2K8yllxiJnMH",
        "outputId": "442834c7-d711-40e7-b332-d87e42d9953d"
      },
      "execution_count": 41,
      "outputs": [
        {
          "output_type": "stream",
          "name": "stderr",
          "text": [
            "/usr/local/lib/python3.7/dist-packages/torch/utils/data/dataloader.py:481: UserWarning: This DataLoader will create 4 worker processes in total. Our suggested max number of worker in current system is 2, which is smaller than what this DataLoader is going to create. Please be aware that excessive worker creation might get DataLoader running slow or even freeze, lower the worker number to avoid potential slowness/freeze if necessary.\n",
            "  cpuset_checked))\n",
            "Exception ignored in: <function _MultiProcessingDataLoaderIter.__del__ at 0x7f786c846320>\n",
            "Traceback (most recent call last):\n",
            "  File \"/usr/local/lib/python3.7/dist-packages/torch/utils/data/dataloader.py\", line 1328, in __del__\n",
            "    self._shutdown_workers()\n",
            "  File \"/usr/local/lib/python3.7/dist-packages/torch/utils/data/dataloader.py\", line 1320, in _shutdown_workers\n",
            "Exception ignored in: <function _MultiProcessingDataLoaderIter.__del__ at 0x7f786c846320>\n",
            "    if w.is_alive():\n",
            "Traceback (most recent call last):\n",
            "  File \"/usr/lib/python3.7/multiprocessing/process.py\", line 151, in is_alive\n",
            "    assert self._parent_pid == os.getpid(), 'can only test a child process'\n",
            "AssertionError: can only test a child process\n",
            "Exception ignored in: <function _MultiProcessingDataLoaderIter.__del__ at 0x7f786c846320>\n",
            "Traceback (most recent call last):\n",
            "  File \"/usr/local/lib/python3.7/dist-packages/torch/utils/data/dataloader.py\", line 1328, in __del__\n",
            "  File \"/usr/local/lib/python3.7/dist-packages/torch/utils/data/dataloader.py\", line 1328, in __del__\n",
            "    self._shutdown_workers()\n",
            "    self._shutdown_workers()\n",
            "  File \"/usr/local/lib/python3.7/dist-packages/torch/utils/data/dataloader.py\", line 1320, in _shutdown_workers\n",
            "  File \"/usr/local/lib/python3.7/dist-packages/torch/utils/data/dataloader.py\", line 1320, in _shutdown_workers\n",
            "    if w.is_alive():\n",
            "  File \"/usr/lib/python3.7/multiprocessing/process.py\", line 151, in is_alive\n",
            "    if w.is_alive():\n",
            "  File \"/usr/lib/python3.7/multiprocessing/process.py\", line 151, in is_alive\n",
            "    assert self._parent_pid == os.getpid(), 'can only test a child process'\n",
            "AssertionError: can only test a child process\n",
            "Exception ignored in: <function _MultiProcessingDataLoaderIter.__del__ at 0x7f786c846320>\n",
            "    assert self._parent_pid == os.getpid(), 'can only test a child process'\n",
            "Traceback (most recent call last):\n",
            "  File \"/usr/local/lib/python3.7/dist-packages/torch/utils/data/dataloader.py\", line 1328, in __del__\n",
            "    self._shutdown_workers()\n",
            "AssertionError: can only test a child process\n",
            "  File \"/usr/local/lib/python3.7/dist-packages/torch/utils/data/dataloader.py\", line 1320, in _shutdown_workers\n",
            "    if w.is_alive():\n",
            "  File \"/usr/lib/python3.7/multiprocessing/process.py\", line 151, in is_alive\n",
            "    assert self._parent_pid == os.getpid(), 'can only test a child process'\n",
            "AssertionError: can only test a child process\n"
          ]
        },
        {
          "output_type": "stream",
          "name": "stdout",
          "text": [
            "[1,  2000] loss: 0.521\n",
            "[1,  4000] loss: 0.537\n",
            "[1,  6000] loss: 0.600\n",
            "[1,  8000] loss: 0.605\n",
            "[1, 10000] loss: 0.654\n",
            "[1, 12000] loss: 0.626\n",
            "[2,  2000] loss: 0.499\n",
            "[2,  4000] loss: 0.557\n",
            "[2,  6000] loss: 0.585\n",
            "[2,  8000] loss: 0.614\n",
            "[2, 10000] loss: 0.609\n",
            "[2, 12000] loss: 0.622\n",
            "[3,  2000] loss: 0.550\n",
            "[3,  4000] loss: 0.575\n",
            "[3,  6000] loss: 0.576\n",
            "[3,  8000] loss: 0.572\n",
            "[3, 10000] loss: 0.609\n",
            "[3, 12000] loss: 0.623\n",
            "[4,  2000] loss: 0.508\n",
            "[4,  4000] loss: 0.540\n",
            "[4,  6000] loss: 0.551\n",
            "[4,  8000] loss: 0.605\n",
            "[4, 10000] loss: 0.618\n",
            "[4, 12000] loss: 0.627\n",
            "[5,  2000] loss: 0.516\n",
            "[5,  4000] loss: 0.532\n",
            "[5,  6000] loss: 0.578\n",
            "[5,  8000] loss: 0.631\n",
            "[5, 10000] loss: 0.633\n",
            "[5, 12000] loss: 0.611\n",
            "[6,  2000] loss: 0.504\n",
            "[6,  4000] loss: 0.548\n",
            "[6,  6000] loss: 0.552\n",
            "[6,  8000] loss: 0.628\n",
            "[6, 10000] loss: 0.611\n",
            "[6, 12000] loss: 0.647\n",
            "[7,  2000] loss: 0.513\n",
            "[7,  4000] loss: 0.585\n",
            "[7,  6000] loss: 0.566\n",
            "[7,  8000] loss: 0.610\n",
            "[7, 10000] loss: 0.591\n",
            "[7, 12000] loss: 0.639\n",
            "[8,  2000] loss: 0.503\n",
            "[8,  4000] loss: 0.582\n",
            "[8,  6000] loss: 0.562\n",
            "[8,  8000] loss: 0.586\n",
            "[8, 10000] loss: 0.618\n",
            "[8, 12000] loss: 0.624\n",
            "[9,  2000] loss: 0.525\n",
            "[9,  4000] loss: 0.578\n",
            "[9,  6000] loss: 0.598\n",
            "[9,  8000] loss: 0.574\n",
            "[9, 10000] loss: 0.654\n",
            "[9, 12000] loss: 0.639\n",
            "[10,  2000] loss: 0.509\n",
            "[10,  4000] loss: 0.584\n",
            "[10,  6000] loss: 0.572\n",
            "[10,  8000] loss: 0.624\n",
            "[10, 10000] loss: 0.618\n",
            "[10, 12000] loss: 0.628\n",
            "Finished Training\n"
          ]
        }
      ]
    },
    {
      "cell_type": "code",
      "source": [
        "PATH = './cifar_net.pth'\n",
        "torch.save(net.state_dict(), PATH)"
      ],
      "metadata": {
        "id": "Nh8D5BV5qutO"
      },
      "execution_count": 44,
      "outputs": []
    },
    {
      "cell_type": "code",
      "source": [
        "dataiter = iter(testLoader)\n",
        "images, labels = dataiter.next()\n",
        "\n",
        "# print images\n",
        "imshow(utils.make_grid(images))\n",
        "print('GroundTruth: ', ' '.join('%5s' % classes[labels[j]] for j in range(4)))\n"
      ],
      "metadata": {
        "colab": {
          "base_uri": "https://localhost:8080/",
          "height": 210
        },
        "id": "6TQn5H3oZIMw",
        "outputId": "768d89d1-a7f0-499c-9862-9e8d6d3d0af1"
      },
      "execution_count": 42,
      "outputs": [
        {
          "output_type": "stream",
          "name": "stderr",
          "text": [
            "/usr/local/lib/python3.7/dist-packages/torch/utils/data/dataloader.py:481: UserWarning: This DataLoader will create 4 worker processes in total. Our suggested max number of worker in current system is 2, which is smaller than what this DataLoader is going to create. Please be aware that excessive worker creation might get DataLoader running slow or even freeze, lower the worker number to avoid potential slowness/freeze if necessary.\n",
            "  cpuset_checked))\n"
          ]
        },
        {
          "output_type": "display_data",
          "data": {
            "image/png": "[encoded data removed]",
            "text/plain": [
              "<Figure size 432x288 with 1 Axes>"
            ]
          },
          "metadata": {
            "needs_background": "light"
          }
        },
        {
          "output_type": "stream",
          "name": "stdout",
          "text": [
            "GroundTruth:   deer  ship  bird   car\n"
          ]
        }
      ]
    },
    {
      "cell_type": "code",
      "source": [
        "net = Network()\n",
        "net.load_state_dict(torch.load(PATH))\n",
        "\n",
        "outputs = net(images)\n",
        "\n",
        "_, predicted = torch.max(outputs, 1)\n",
        "\n",
        "print('Predicted: ', ' '.join('%5s' % classes[predicted[j]]\n",
        "                              for j in range(4)))"
      ],
      "metadata": {
        "colab": {
          "base_uri": "https://localhost:8080/"
        },
        "id": "ptBLZGmWqn2y",
        "outputId": "232d4476-98d8-45ec-ecd3-4b00d2e17d0c"
      },
      "execution_count": 46,
      "outputs": [
        {
          "output_type": "stream",
          "name": "stdout",
          "text": [
            "Predicted:   deer  ship  deer   car\n"
          ]
        }
      ]
    },
    {
      "cell_type": "code",
      "source": [
        "correct = 0\n",
        "total = 0\n",
        "# since we're not training, we don't need to calculate the gradients for our outputs\n",
        "with torch.no_grad():\n",
        "    for data in testLoader:\n",
        "        images, labels = data\n",
        "        # calculate outputs by running images through the network\n",
        "        outputs = net(images)\n",
        "        # the class with the highest energy is what we choose as prediction\n",
        "        _, predicted = torch.max(outputs.data, 1)\n",
        "        total += labels.size(0)\n",
        "        correct += (predicted == labels).sum().item()\n",
        "\n",
        "print('Accuracy of the network on the 10000 test images: %d %%' % (\n",
        "    100 * correct / total))\n"
      ],
      "metadata": {
        "colab": {
          "base_uri": "https://localhost:8080/"
        },
        "id": "eB_0UpcQq5z3",
        "outputId": "b710dde4-84e2-454b-9d4d-b20efe57fd62"
      },
      "execution_count": 48,
      "outputs": [
        {
          "output_type": "stream",
          "name": "stderr",
          "text": [
            "/usr/local/lib/python3.7/dist-packages/torch/utils/data/dataloader.py:481: UserWarning: This DataLoader will create 4 worker processes in total. Our suggested max number of worker in current system is 2, which is smaller than what this DataLoader is going to create. Please be aware that excessive worker creation might get DataLoader running slow or even freeze, lower the worker number to avoid potential slowness/freeze if necessary.\n",
            "  cpuset_checked))\n"
          ]
        },
        {
          "output_type": "stream",
          "name": "stdout",
          "text": [
            "Accuracy of the network on the 10000 test images: 58 %\n"
          ]
        }
      ]
    },
    {
      "cell_type": "code",
      "source": [
        "# prepare to count predictions for each class\n",
        "correct_pred = {classname: 0 for classname in classes}\n",
        "total_pred = {classname: 0 for classname in classes}\n",
        "\n",
        "# again no gradients needed\n",
        "with torch.no_grad():\n",
        "    for data in testLoader:\n",
        "        images, labels = data\n",
        "        outputs = net(images)\n",
        "        _, predictions = torch.max(outputs, 1)\n",
        "        # collect the correct predictions for each class\n",
        "        for label, prediction in zip(labels, predictions):\n",
        "            if label == prediction:\n",
        "                correct_pred[classes[label]] += 1\n",
        "            total_pred[classes[label]] += 1\n",
        "\n",
        "\n",
        "# print accuracy for each class\n",
        "for classname, correct_count in correct_pred.items():\n",
        "    accuracy = 100 * float(correct_count) / total_pred[classname]\n",
        "    print(\"Accuracy for class {:5s} is: {:.1f} %\".format(classname,\n",
        "                                                   accuracy))"
      ],
      "metadata": {
        "colab": {
          "base_uri": "https://localhost:8080/"
        },
        "id": "5b8MJf2Vq_68",
        "outputId": "1458effd-d019-461c-a2d3-e11fbe16b152"
      },
      "execution_count": 50,
      "outputs": [
        {
          "output_type": "stream",
          "name": "stderr",
          "text": [
            "/usr/local/lib/python3.7/dist-packages/torch/utils/data/dataloader.py:481: UserWarning: This DataLoader will create 4 worker processes in total. Our suggested max number of worker in current system is 2, which is smaller than what this DataLoader is going to create. Please be aware that excessive worker creation might get DataLoader running slow or even freeze, lower the worker number to avoid potential slowness/freeze if necessary.\n",
            "  cpuset_checked))\n"
          ]
        },
        {
          "output_type": "stream",
          "name": "stdout",
          "text": [
            "Accuracy for class plane is: 65.2 %\n",
            "Accuracy for class car   is: 76.2 %\n",
            "Accuracy for class bird  is: 42.3 %\n",
            "Accuracy for class cat   is: 43.4 %\n",
            "Accuracy for class deer  is: 47.4 %\n",
            "Accuracy for class dog   is: 45.0 %\n",
            "Accuracy for class frog  is: 70.2 %\n",
            "Accuracy for class horse is: 60.7 %\n",
            "Accuracy for class ship  is: 71.6 %\n",
            "Accuracy for class truck is: 66.9 %\n"
          ]
        }
      ]
    }
  ]
}