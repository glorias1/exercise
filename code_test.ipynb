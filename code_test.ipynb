{
  "nbformat": 4,
  "nbformat_minor": 0,
  "metadata": {
    "colab": {
      "name": "code_test.ipynb",
      "provenance": [],
      "collapsed_sections": []
    },
    "kernelspec": {
      "name": "python3",
      "display_name": "Python 3"
    },
    "language_info": {
      "name": "python"
    }
  },
  "cells": [
    {
      "cell_type": "code",
      "metadata": {
        "colab": {
          "base_uri": "https://localhost:8080/"
        },
        "id": "IRkg2pOm0auE",
        "outputId": "a076646c-4240-4312-e92f-1d8a5e878526"
      },
      "source": [
        "class IceCreamMachine:\n",
        "    \n",
        "    def __init__(self, ingredients, toppings):\n",
        "        self.ingredients = ingredients\n",
        "        self.toppings = toppings\n",
        "        \n",
        "    def scoops(self):\n",
        "      ret = []\n",
        "      if self.toppings == None:\n",
        "        return ret\n",
        "      else:\n",
        "        for ing in self.ingredients:\n",
        "          for top in self.toppings:\n",
        "            l = [ing, top]\n",
        "            ret.append(l)\n",
        "      return ret\n",
        "\n",
        "if __name__ == \"__main__\":\n",
        "    machine = IceCreamMachine([\"vanilla\", \"chocolate\"], [\"hello\", \"chocolate sauce\"])\n",
        "    print(machine.scoops()) #should print[['vanilla', 'chocolate sauce'], ['chocolate', 'chocolate sauce']]"
      ],
      "execution_count": null,
      "outputs": [
        {
          "output_type": "stream",
          "name": "stdout",
          "text": [
            "[['vanilla', 'hello'], ['vanilla', 'chocolate sauce'], ['chocolate', 'hello'], ['chocolate', 'chocolate sauce']]\n"
          ]
        }
      ]
    },
    {
      "cell_type": "code",
      "metadata": {
        "colab": {
          "base_uri": "https://localhost:8080/"
        },
        "id": "RR1mH7Db1Rpy",
        "outputId": "fd7659a6-6e5a-4e69-b7db-44412559fbf4"
      },
      "source": [
        "def unique_names(names1, names2):\n",
        "    ret = []\n",
        "    names = names1 + names2\n",
        "    for name in names:\n",
        "      if name not in ret:\n",
        "        ret.append(name)\n",
        "    return ret\n",
        "\n",
        "if __name__ == \"__main__\":\n",
        "    names1 = [\"Ava\", \"Emma\", \"Olivia\"]\n",
        "    names2 = [\"Olivia\", \"Sophia\", \"Emma\"]\n",
        "    print(unique_names(names1, names2)) # should print Ava, Emma, Olivia, Sophia"
      ],
      "execution_count": null,
      "outputs": [
        {
          "output_type": "stream",
          "name": "stdout",
          "text": [
            "['Ava', 'Emma', 'Olivia', 'Sophia']\n"
          ]
        }
      ]
    },
    {
      "cell_type": "code",
      "metadata": {
        "colab": {
          "base_uri": "https://localhost:8080/"
        },
        "id": "9-UEHCLaDExA",
        "outputId": "786182a8-a305-4694-8de2-607dbeeee201"
      },
      "source": [
        "def group_by_owners(files):\n",
        "    ret = {}\n",
        "    names = list(files.values())\n",
        "    for name in names:\n",
        "      file_list = []\n",
        "      for key, value in files.items():\n",
        "        if name == value:\n",
        "          file_list.append(key)\n",
        "      ret[name] = file_list\n",
        "    return ret\n",
        "if __name__ == \"__main__\":    \n",
        "    files = {\n",
        "        'Input.txt': 'Randy',\n",
        "        'Code.py': 'Stan',\n",
        "        'Output.txt': 'Randy'\n",
        "    }   \n",
        "    print(group_by_owners(files))"
      ],
      "execution_count": null,
      "outputs": [
        {
          "output_type": "stream",
          "name": "stdout",
          "text": [
            "{'Randy': ['Input.txt', 'Output.txt'], 'Stan': ['Code.py']}\n"
          ]
        }
      ]
    },
    {
      "cell_type": "code",
      "metadata": {
        "colab": {
          "base_uri": "https://localhost:8080/"
        },
        "id": "5gE5IQWgGc75",
        "outputId": "6efc1991-46f6-4d54-b4b5-4ca82e8187d6"
      },
      "source": [
        "input1 = \"Hello! It's Gloria.\"\n",
        "# Expected output: [\"Hello\", \"It's Gloria\"]\n",
        "input2 = \"Hi😂Our opening hours are 10-7.\"\n",
        "# Expected output: [\"Hi\", \"Our opening hours are 10-7\"]\n",
        "input3 = \"Hi!! I'm Gloria.\"\n",
        "\n",
        "import re\n",
        "import string\n",
        "\n",
        "def solution(line):\n",
        "  s = []\n",
        "  ret = \"\"\n",
        "  # punc = ',./:;[]{}()=+!@#$%^&*`~\\|_'\n",
        "  sentence_slicing ='?!.😂'\n",
        "\n",
        "  for i, char in enumerate(line):\n",
        "    if char not in sentence_slicing:\n",
        "      ret += char\n",
        "    else:\n",
        "      s.append(ret.lstrip())\n",
        "      ret = \"\"\n",
        "  return list(filter(None, s))\n",
        "\n",
        "print(solution(input1))\n",
        "print(solution(input2))\n",
        "print(solution(input3))"
      ],
      "execution_count": null,
      "outputs": [
        {
          "output_type": "stream",
          "name": "stdout",
          "text": [
            "['Hello', \"It's Gloria\"]\n",
            "['Hi', 'Our opening hours are 10-7']\n",
            "['Hi', \"I'm Gloria\"]\n"
          ]
        }
      ]
    },
    {
      "cell_type": "code",
      "metadata": {
        "id": "qP2k54M1JTBp"
      },
      "source": [
        ""
      ],
      "execution_count": null,
      "outputs": []
    }
  ]
}